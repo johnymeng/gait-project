{
 "cells": [
  {
   "cell_type": "code",
   "execution_count": 310,
   "metadata": {},
   "outputs": [],
   "source": [
    "import secrets\n",
    "\n",
    "import easydict\n",
    "import matplotlib.pyplot as plt\n",
    "import torch\n",
    "# from torch.utils.tensorboard import SummaryWriter\n",
    "from torchvision import transforms\n",
    "import torch.utils.data as data\n",
    "from tqdm import tqdm\n",
    "import pandas as pd\n",
    "import numpy as np\n",
    "\n",
    "# from model import LSTMVAE\n",
    "from numpy import recarray\n",
    "from sklearn.model_selection import train_test_split\n",
    "# from dataset import mHealth\n",
    "from torchvision import transforms\n",
    "import torch.utils.data as data"
   ]
  },
  {
   "cell_type": "code",
   "execution_count": 311,
   "metadata": {},
   "outputs": [],
   "source": [
    "class mHealth(data.Dataset):\n",
    "    \n",
    "    def __init__(self, dataframe, raw_data):\n",
    "        \"\"\"\n",
    "        Args:\n",
    "            csv_file (string): path to csv file with data\n",
    "        \"\"\"\n",
    "        self.dataset = dataframe\n",
    "        self.raw_data = raw_data\n",
    "\n",
    "    def __len__(self):\n",
    "        return len(self.dataset)\n",
    "    \n",
    "    def __getitem__(self, index):\n",
    "        \"\"\"\n",
    "        Args:\n",
    "            index (int): index\n",
    "            \n",
    "        Returns:\n",
    "            (sequence, label)\n",
    "            returns the time series data then label value for data\n",
    "        \"\"\"\n",
    "        \n",
    "        # label = self.raw_data['label'].iloc[index]\n",
    "        \n",
    "        # sequence = np.array()\n",
    "        # print(self.dataset['chest acceleration X-axis'].iloc[index:index+32].type)\n",
    "        # sequence = [self.dataset['chest acceleration X-axis'].iloc[index:index+32],\n",
    "        #             self.dataset['chest acceleration Y-axis'].iloc[index:index+32],\n",
    "        #             self.dataset['chest acceleration Z-axis'].iloc[index:index+32],]\n",
    "        \n",
    "        # sequence = [self.dataset['Chest X-axis'].iloc[index],\n",
    "        #             self.dataset['Chest Y-axis'].iloc[index],\n",
    "        #             self.dataset['Chest Z-axis'].iloc[index],]\n",
    "        \n",
    "        sequence = torch.tensor(self.dataset[index:index+16]).type(torch.float32)\n",
    "        target = torch.tensor(self.dataset[index+17:index+32]).type(torch.float32)\n",
    "        \n",
    "        # if(len(sequence) <14):\n",
    "        #     print(\"sequence is small, index: \", index)\n",
    "            \n",
    "        \n",
    "        # print(sequence.type)\n",
    "        return sequence, target\n",
    "\n",
    "def collate_fn(batch):\n",
    "    # Get the maximum length in the batch\n",
    "    max_length = max(len(x[0]) for x in batch)\n",
    "    # print(\"maxlangth=\", max_length)\n",
    "    \n",
    "    # Pad all sequences to the maximum length\n",
    "    padded_y_batch = []\n",
    "    padded_x_batch = []\n",
    "    for x,y in batch:\n",
    "        padded_x = torch.cat([x, torch.zeros(max_length - len(x))], dim=0)\n",
    "        padded_y = torch.cat([y, torch.zeros(max_length - len(y))], dim=0)\n",
    "        padded_x_batch.append((padded_x))\n",
    "        padded_y_batch.append((padded_y))\n",
    "    \n",
    "    \n",
    "    padded_x_batch = torch.stack(padded_x_batch)\n",
    "    padded_y_batch = torch.stack(padded_y_batch)\n",
    "    \n",
    "    return padded_x_batch, padded_y_batch\n",
    "#create new dataframe with each index ho lding the 32 values in the future  "
   ]
  },
  {
   "cell_type": "code",
   "execution_count": 312,
   "metadata": {},
   "outputs": [
    {
     "name": "stderr",
     "output_type": "stream",
     "text": [
      "<>:166: SyntaxWarning: invalid escape sequence '\\m'\n",
      "<>:166: SyntaxWarning: invalid escape sequence '\\m'\n",
      "/tmp/ipykernel_84572/1913242382.py:166: SyntaxWarning: invalid escape sequence '\\m'\n",
      "  \"\"\"\n"
     ]
    }
   ],
   "source": [
    "import torch\n",
    "from torch import nn\n",
    "from torch.nn import functional as F\n",
    "\n",
    "\n",
    "class Encoder(nn.Module):\n",
    "    def __init__(self, input_size=1, hidden_size=64, num_layers=2):\n",
    "        super(Encoder, self).__init__()\n",
    "        self.hidden_size = hidden_size\n",
    "        self.num_layers = num_layers\n",
    "        self.lstm = nn.LSTM(\n",
    "            input_size,\n",
    "            hidden_size,\n",
    "            num_layers,\n",
    "            batch_first=True,\n",
    "            bidirectional=False,\n",
    "        )\n",
    "\n",
    "    def forward(self, x):\n",
    "        # x: tensor of shape (batch_size, seq_length, hidden_size)\n",
    "        # x = x.view(*x.shape, 64)\n",
    "        x = x.unsqueeze(dim=0)\n",
    "        x = x.permute(1, 2, 0)\n",
    "        # print(\"encoder x shape: \", x.shape)\n",
    "        outputs, (hidden, cell) = self.lstm(x)\n",
    "        # print(\"failed\")\n",
    "        # print(\"enc output shape: \", outputs.shape)\n",
    "        return outputs, (hidden, cell)\n",
    "\n",
    "\n",
    "class Decoder(nn.Module):\n",
    "    def __init__(\n",
    "        self, input_size=1, hidden_size=64, output_size=1, num_layers=2\n",
    "    ):\n",
    "        super(Decoder, self).__init__()\n",
    "        self.hidden_size = hidden_size\n",
    "        self.output_size = output_size\n",
    "        self.num_layers = num_layers\n",
    "        self.lstm = nn.LSTM(\n",
    "            input_size,\n",
    "            hidden_size,\n",
    "            num_layers,\n",
    "            batch_first=True,\n",
    "            bidirectional=False,\n",
    "        )\n",
    "        self.fc = nn.Linear(hidden_size, output_size)\n",
    "\n",
    "    def forward(self, x, hidden):\n",
    "        x = x.reshape(512, 64, 1)\n",
    "        hidden = (hidden[0].unsqueeze(dim=0), hidden[1].unsqueeze(dim=0))\n",
    "        # hidden = (hidden[0].permute(0, 1, 2), hidden[1].permute(1, 2,0))\n",
    "        # print(\"hidden shape 0: \", hidden[0].shape)\n",
    "        # print(\"hidden shape 1: \", hidden[1].shape)\n",
    "        # print(\"decoder x shape: \", x.shape)\n",
    "        # x: tensor of shape (batch_size, seq_length, hidden_size)\n",
    "        \n",
    "        output, (hidden, cell) = self.lstm(x, hidden)\n",
    "        # print(\"got here\")\n",
    "        prediction = self.fc(output)\n",
    "        return prediction, (hidden, cell)\n",
    "\n",
    "\n",
    "class LSTMVAE(nn.Module):\n",
    "    \"\"\"LSTM-based Variational Auto Encoder\"\"\"\n",
    "\n",
    "    def __init__(\n",
    "        self, input_size, hidden_size, latent_size, device\n",
    "    ):\n",
    "        \"\"\"\n",
    "        input_size: int, batch_size x sequence_length x input_dim\n",
    "        hidden_size: int, output size of LSTM AE\n",
    "        latent_size: int, latent z-layer size\n",
    "        num_lstm_layer: int, number of layers in LSTM\n",
    "        \"\"\"\n",
    "        super(LSTMVAE, self).__init__()\n",
    "        self.device = device\n",
    "\n",
    "        # dimensions\n",
    "        self.input_size = input_size\n",
    "        self.hidden_size = hidden_size\n",
    "        self.latent_size = latent_size\n",
    "        self.num_layers = 1\n",
    "\n",
    "        # lstm ae\n",
    "        self.lstm_enc = Encoder(\n",
    "            input_size=1, \n",
    "            hidden_size=hidden_size, \n",
    "            num_layers=self.num_layers\n",
    "        )\n",
    "        \n",
    "        self.lstm_dec = Decoder(\n",
    "            input_size=1,\n",
    "            output_size=1,\n",
    "            hidden_size=hidden_size,\n",
    "            num_layers=self.num_layers,\n",
    "        )\n",
    "        # self.lstm_dec = Decoder(\n",
    "        #     input_size=latent_size,\n",
    "        #     output_size=input_size,\n",
    "        #     hidden_size=hidden_size,\n",
    "        #     num_layers=self.num_layers,\n",
    "        # )\n",
    "\n",
    "        self.fc21 = nn.Linear(self.hidden_size, self.latent_size) #expected input: [64, 0]\n",
    "        self.fc22 = nn.Linear(self.hidden_size, self.latent_size)\n",
    "        self.fc3 = nn.Linear(self.latent_size, self.hidden_size)\n",
    "\n",
    "    def reparametize(self, mu, logvar):\n",
    "        std = torch.exp(0.5 * logvar)\n",
    "        noise = torch.randn_like(std).to(self.device)\n",
    "\n",
    "        z = mu + noise * std\n",
    "        return z\n",
    "\n",
    "    def forward(self, x):\n",
    "        x = x.squeeze()\n",
    "        # print(\"x shape: \", x.shape)\n",
    "        batch_size, seq_len = x.shape\n",
    "        feature_dim = 1\n",
    "\n",
    "        # encode input space to hidden space\n",
    "        outputs, enc_hidden = self.lstm_enc(x)\n",
    "        # print(\"enc out shape: \", outputs.shape)\n",
    "        # print(\"enchidden 0 shape: \", enc_hidden[0].shape)\n",
    "        # print(\"enchidden 1 shape: \", enc_hidden[1].shape)\n",
    "        # print(\"got here line 99\")\n",
    "        \n",
    "        # enc_h = enc_hidden[0].view(self.hidden_size).to(self.device)\n",
    "        enc_h = enc_hidden[0].view(batch_size, self.hidden_size).to(self.device)\n",
    "        # print(\"passed\")\n",
    "        # print(\"enc_h shape: \", enc_h.shape)\n",
    "        # extract latent variable z(hidden space to latent space)\n",
    "        mean = self.fc21(enc_h)\n",
    "        logvar = self.fc22(enc_h)\n",
    "        z = self.reparametize(mean, logvar)  # batch_size x latent_size\n",
    "\n",
    "        # initialize hidden state as inputs\n",
    "        h_ = self.fc3(z)\n",
    "        \n",
    "        # decode latent space to input space\n",
    "        z = z.repeat(1, seq_len, 1)\n",
    "        # z = z.view(batch_size, seq_len, self.latent_size).to(self.device)\n",
    "        z = z.view(batch_size, seq_len, self.latent_size).to(self.device)\n",
    "        # print(\"z shape:\", z.shape)\n",
    "        # initialize hidden state\n",
    "        hidden = (h_.contiguous(), h_.contiguous())\n",
    "        # print(\"got here 2\")\n",
    "        reconstruct_output, hidden = self.lstm_dec(z, hidden)\n",
    "        # print(\"reconstruction output shape: \", reconstruct_output.shape)\n",
    "        # print(\"hidden shape [0]: \", hidden[0].shape)\n",
    "        # print(\"hidden shape [1]: \", hidden[1].shape)\n",
    "        x_hat = reconstruct_output\n",
    "\n",
    "        # calculate vae loss\n",
    "        # print(x.shape)\n",
    "        losses = self.loss_function(x_hat, x, mean, logvar)\n",
    "        m_loss, recon_loss, kld_loss = (\n",
    "            losses[\"loss\"],\n",
    "            losses[\"Reconstruction_Loss\"],\n",
    "            losses[\"KLD\"],\n",
    "        )\n",
    "\n",
    "        return m_loss, x_hat, (recon_loss, kld_loss)\n",
    "\n",
    "    def loss_function(self, *args, **kwargs) -> dict:\n",
    "        \"\"\"\n",
    "        Computes the VAE loss function.\n",
    "        KL(N(\\mu, \\sigma), N(0, 1)) = \\log \\frac{1}{\\sigma} + \\frac{\\sigma^2 + \\mu^2}{2} - \\frac{1}{2}\n",
    "        :param args:\n",
    "        :param kwargs:\n",
    "        :return:\n",
    "        \"\"\"\n",
    "        recons = args[0]\n",
    "        input = args[1]\n",
    "        mu = args[2]\n",
    "        log_var = args[3]\n",
    "\n",
    "        kld_weight = 0.00025  # Account for the minibatch samples from the dataset\n",
    "        \n",
    "        # recons = recons.reshape(4, 16)\n",
    "        recons = recons.reshape(64, 512, 1)\n",
    "        # print(\"recons shape: \", recons.shape)\n",
    "        # print(\"input shape: \", input.shape)\n",
    "        recons_loss = F.mse_loss(recons, input)\n",
    "\n",
    "        kld_loss = torch.mean(\n",
    "            -0.5 * torch.sum(1 + log_var - mu**2 - log_var.exp(), dim=1), dim=0\n",
    "        )\n",
    "\n",
    "        loss = recons_loss + kld_weight * kld_loss\n",
    "        return {\n",
    "            \"loss\": loss,\n",
    "            \"Reconstruction_Loss\": recons_loss.detach(),\n",
    "            \"KLD\": -kld_loss.detach(),\n",
    "        }\n",
    "    \n",
    "    # def loss_function(recon_x, x, mu, logvar):\n",
    "    #     BCE = torch.nn.functional.mse_loss(recon_x, x, reduction='sum')\n",
    "    #     KLD = -0.5 * torch.sum(1 + logvar - mu.pow(2) - logvar.exp())\n",
    "    #     return BCE + KLD\n",
    "\n",
    "\n",
    "# class LSTMAE(nn.Module):\n",
    "#     \"\"\"LSTM-based Auto Encoder\"\"\"\n",
    "\n",
    "#     def __init__(self, input_size, hidden_size, latent_size, device):\n",
    "#         \"\"\"\n",
    "#         input_size: int, batch_size x sequence_length x input_dim\n",
    "#         hidden_size: int, output size of LSTM AE\n",
    "#         latent_size: int, latent z-layer size\n",
    "#         num_lstm_layer: int, number of layers in LSTM\n",
    "#         \"\"\"\n",
    "#         super(LSTMAE, self).__init__()\n",
    "#         self.device = device\n",
    "\n",
    "#         # dimensions\n",
    "#         self.input_size = input_size\n",
    "#         self.hidden_size = hidden_size\n",
    "#         self.latent_size = latent_size\n",
    "\n",
    "#         # lstm ae\n",
    "#         self.lstm_enc = Encoder(\n",
    "#             input_size=input_size,\n",
    "#             hidden_size=hidden_size,\n",
    "#         )\n",
    "#         self.lstm_dec = Decoder(\n",
    "#             input_size=input_size,\n",
    "#             output_size=input_size,\n",
    "#             hidden_size=hidden_size,\n",
    "#         )\n",
    "\n",
    "#         self.criterion = nn.MSELoss()\n",
    "\n",
    "#     def forward(self, x):\n",
    "#         batch_size, seq_len, feature_dim = x.shape\n",
    "\n",
    "#         enc_hidden = self.lstm_enc(x)\n",
    "\n",
    "#         temp_input = torch.zeros((batch_size, seq_len, feature_dim), dtype=torch.float).to(\n",
    "#             self.device\n",
    "#         )\n",
    "#         hidden = enc_hidden\n",
    "#         reconstruct_output, hidden = self.lstm_dec(temp_input, hidden)\n",
    "#         reconstruct_loss = self.criterion(reconstruct_output, x)\n",
    "\n",
    "#         return reconstruct_loss, reconstruct_output, (0, 0)"
   ]
  },
  {
   "cell_type": "code",
   "execution_count": 313,
   "metadata": {},
   "outputs": [
    {
     "data": {
      "text/plain": [
       "[<matplotlib.lines.Line2D at 0x7d587e4be060>]"
      ]
     },
     "execution_count": 313,
     "metadata": {},
     "output_type": "execute_result"
    },
    {
     "data": {
      "image/png": "[encoded data removed]",
      "text/plain": [
       "<Figure size 640x480 with 1 Axes>"
      ]
     },
     "metadata": {},
     "output_type": "display_data"
    }
   ],
   "source": [
    "dataset = pd.read_csv('/home/jm/vscode/Python/pythonenv/gait-project/datasets/MHEALTHDATASET_CSV/mHealth_subject1.csv')\n",
    "dataset = dataset['chest acceleration X-axis']\n",
    "plt.plot(dataset[:750])"
   ]
  },
  {
   "cell_type": "code",
   "execution_count": 314,
   "metadata": {},
   "outputs": [],
   "source": [
    "# dataframe = pd.read_csv('/home/jm/vscode/Python/pythonenv/gait-project/VAE+RNN/lstm_vae_2/processed_data/chest_accel.csv')"
   ]
  },
  {
   "cell_type": "code",
   "execution_count": 315,
   "metadata": {},
   "outputs": [
    {
     "data": {
      "text/plain": [
       "torch.Size([161280])"
      ]
     },
     "execution_count": 315,
     "metadata": {},
     "output_type": "execute_result"
    }
   ],
   "source": [
    "dataset = torch.tensor(dataset)\n",
    "dataset.shape"
   ]
  },
  {
   "cell_type": "code",
   "execution_count": 316,
   "metadata": {},
   "outputs": [
    {
     "name": "stdout",
     "output_type": "stream",
     "text": [
      "cpu\n"
     ]
    }
   ],
   "source": [
    "split_idx = int(len(dataset) * 0.8)\n",
    "\n",
    "# training dataset\n",
    "train_set = mHealth(\n",
    "    dataframe=dataset[:split_idx],\n",
    "    raw_data=dataset\n",
    ")\n",
    "\n",
    "test_set = mHealth(\n",
    "    dataframe=dataset[split_idx:],\n",
    "    raw_data=dataset\n",
    ")\n",
    "\n",
    "batch_size = 512\n",
    "input_size = 16\n",
    "hidden_size = 64\n",
    "latent_size = 4\n",
    "num_layers = 2\n",
    "\n",
    "# if torch.cuda.is_available(): \n",
    "#     device = 'cuda' \n",
    "#     print(\"cuda\")\n",
    "# else: \n",
    "device = 'cpu'\n",
    "print(\"cpu\")\n",
    "\n",
    "# define LSTM-based VAE model\n",
    "model = LSTMVAE(input_size, hidden_size, latent_size, device=device)"
   ]
  },
  {
   "cell_type": "code",
   "execution_count": 317,
   "metadata": {},
   "outputs": [
    {
     "name": "stdout",
     "output_type": "stream",
     "text": [
      "Dataloaders: <torch.utils.data.dataloader.DataLoader object at 0x7d588fbf3620>\n",
      "Length of train_dataloader: 63 batches of 512\n",
      "tensor([[ -9.0151, -10.2780, -11.2820,  ...,  -9.1490,  -9.7478,  -9.1239],\n",
      "        [ -9.2143,  -8.9875,  -9.0604,  ..., -10.0110, -10.4120, -10.7020],\n",
      "        [-12.6500, -12.8500, -12.7530,  ...,  -8.4795,  -6.6662,  -6.3269],\n",
      "        ...,\n",
      "        [ -7.4718,  -8.3780,  -8.4019,  ...,  -8.2989,  -8.5421,  -7.3527],\n",
      "        [ -8.9715,  -8.9784,  -9.1290,  ...,  -4.3269,  -6.2375, -11.0770],\n",
      "        [-13.1080, -12.3520, -12.1190,  ...,  -7.9214,  -7.9760,  -7.5985]])\n"
     ]
    },
    {
     "name": "stderr",
     "output_type": "stream",
     "text": [
      "/tmp/ipykernel_84572/3590410135.py:36: UserWarning: To copy construct from a tensor, it is recommended to use sourceTensor.clone().detach() or sourceTensor.clone().detach().requires_grad_(True), rather than torch.tensor(sourceTensor).\n",
      "  sequence = torch.tensor(self.dataset[index:index+16]).type(torch.float32)\n",
      "/tmp/ipykernel_84572/3590410135.py:37: UserWarning: To copy construct from a tensor, it is recommended to use sourceTensor.clone().detach() or sourceTensor.clone().detach().requires_grad_(True), rather than torch.tensor(sourceTensor).\n",
      "  target = torch.tensor(self.dataset[index+17:index+32]).type(torch.float32)\n"
     ]
    }
   ],
   "source": [
    "train_loader = torch.utils.data.DataLoader(\n",
    "    dataset=train_set, \n",
    "    batch_size=batch_size, \n",
    "    collate_fn=collate_fn,\n",
    "    shuffle=True,\n",
    "    drop_last=True\n",
    ")\n",
    "\n",
    "train_loader = torch.utils.data.DataLoader(\n",
    "    dataset=test_set, \n",
    "    batch_size=batch_size, \n",
    "    collate_fn=collate_fn,\n",
    "    shuffle=True,\n",
    "    drop_last=True\n",
    ")\n",
    "\n",
    "print(f\"Dataloaders: {train_loader}\")\n",
    "print(f\"Length of train_dataloader: {len(train_loader)} batches of {batch_size}\")\n",
    "\n",
    "# test_loader = torch.utils.data.DataLoader(\n",
    "#     dataset=test_set, \n",
    "#     batch_size=args.batch_size, \n",
    "#     shuffle=False,\n",
    "#     drop_last=True\n",
    "# )\n",
    "\n",
    "for idx, data in enumerate(train_loader):\n",
    "    datas = data[0]\n",
    "    labels = data[1]\n",
    "    print(datas)\n",
    "    break\n",
    "    print(\"Data shape:\", datas.shape)\n",
    "    #print(\"Labels:\", labels)\n",
    "   # (\"Labels shape:\", len(labels))\n",
    "    print(\"labels shape\", labels.shape)\n",
    "    break"
   ]
  },
  {
   "cell_type": "code",
   "execution_count": 318,
   "metadata": {},
   "outputs": [],
   "source": [
    "def train(iterations, model, train_loader, test_loader):\n",
    "    # optimizer\n",
    "    optimizer = torch.optim.SGD(model.parameters(), lr=0.001)\n",
    "\n",
    "    ## interation setup\n",
    "    epochs = tqdm(range(iterations))\n",
    "\n",
    "    ## training\n",
    "    count = 0\n",
    "    for epoch in epochs:\n",
    "        model.train()\n",
    "        optimizer.zero_grad()\n",
    "        train_iterator = tqdm(\n",
    "            enumerate(train_loader), total=len(train_loader)-32, desc=\"training\"\n",
    "        )\n",
    "\n",
    "        for i, batch_data in train_iterator:\n",
    "\n",
    "            if count > iterations:\n",
    "                return model\n",
    "            count += 1\n",
    "\n",
    "            past_data, future_data = batch_data\n",
    "            # print(\"past_data shape: \", past_data.shape)\n",
    "\n",
    "            ## reshape\n",
    "            # batch_size = past_data.size(0)\n",
    "            # example_size = past_data.size(1)\n",
    "            # image_size = past_data.size(2), past_data.size(3)\n",
    "            # past_data = (\n",
    "            #     past_data.view(batch_size, example_size, -1).float().to(args.device)\n",
    "            # )\n",
    "            # future_data = future_data.view(batch_size, example_size, -1).float().to(args.device)\n",
    "\n",
    "            mloss, recon_x, info = model(past_data)\n",
    "\n",
    "            # Backward and optimize\n",
    "            optimizer.zero_grad()\n",
    "            mloss.mean().backward()\n",
    "            optimizer.step()\n",
    "\n",
    "            train_iterator.set_postfix({\"train_loss\": float(mloss.mean())})\n",
    "        # writer.add_scalar(\"train_loss\", float(mloss.mean()), epoch)\n",
    "\n",
    "        model.eval()\n",
    "        eval_loss = 0\n",
    "        test_iterator = tqdm(\n",
    "            enumerate(test_loader), total=len(test_loader), desc=\"testing\"\n",
    "        )\n",
    "\n",
    "        with torch.no_grad():\n",
    "            for i, batch_data in test_iterator:\n",
    "                future_data, past_data = batch_data\n",
    "\n",
    "                ## reshape\n",
    "                batch_size = past_data.size(0)\n",
    "                example_size = past_data.size(1)\n",
    "                past_data = (\n",
    "                    past_data.view(batch_size, example_size, -1).float().to(device)\n",
    "                )\n",
    "                # future_data = future_data.view(batch_size, example_size, -1).float().to(args.device)\n",
    "\n",
    "                mloss, recon_x, info = model(past_data)\n",
    "\n",
    "                eval_loss += mloss.mean().item()\n",
    "\n",
    "                test_iterator.set_postfix({\"eval_loss\": float(mloss.mean())})\n",
    "\n",
    "                # if i == 0:\n",
    "                #     nhw_orig = past_data[0].view(example_size, image_size[0], -1)\n",
    "                #     nhw_recon = recon_x[0].view(example_size, image_size[0], -1)\n",
    "                #     imshow(nhw_orig.cpu(), f\"orig{epoch}\")\n",
    "                #     imshow(nhw_recon.cpu(), f\"recon{epoch}\")\n",
    "                #     # writer.add_images(f\"original{i}\", nchw_orig, epoch)\n",
    "                #     # writer.add_images(f\"reconstructed{i}\", nchw_recon, epoch)\n",
    "\n",
    "        eval_loss = eval_loss / len(test_loader)\n",
    "        # writer.add_scalar(\"eval_loss\", float(eval_loss), epoch)\n",
    "        print(\"Evaluation Score : [{}]\".format(eval_loss))\n",
    "\n",
    "    return model\n"
   ]
  },
  {
   "cell_type": "code",
   "execution_count": 319,
   "metadata": {},
   "outputs": [
    {
     "name": "stderr",
     "output_type": "stream",
     "text": [
      "  0%|          | 0/100000 [00:00<?, ?it/s]/tmp/ipykernel_84572/3590410135.py:36: UserWarning: To copy construct from a tensor, it is recommended to use sourceTensor.clone().detach() or sourceTensor.clone().detach().requires_grad_(True), rather than torch.tensor(sourceTensor).\n",
      "  sequence = torch.tensor(self.dataset[index:index+16]).type(torch.float32)\n",
      "/tmp/ipykernel_84572/3590410135.py:37: UserWarning: To copy construct from a tensor, it is recommended to use sourceTensor.clone().detach() or sourceTensor.clone().detach().requires_grad_(True), rather than torch.tensor(sourceTensor).\n",
      "  target = torch.tensor(self.dataset[index+17:index+32]).type(torch.float32)\n",
      "/tmp/ipykernel_84572/1913242382.py:184: UserWarning: Using a target size (torch.Size([512, 16])) that is different to the input size (torch.Size([64, 512, 1])). This will likely lead to incorrect results due to broadcasting. Please ensure they have the same size.\n",
      "  recons_loss = F.mse_loss(recons, input)\n",
      "training: 63it [00:04, 12.91it/s, train_loss=65.8]\n",
      "testing: 100%|██████████| 63/63 [00:02<00:00, 29.56it/s, eval_loss=60.4]\n",
      "  0%|          | 1/100000 [00:07<194:49:51,  7.01s/it]"
     ]
    },
    {
     "name": "stdout",
     "output_type": "stream",
     "text": [
      "Evaluation Score : [61.20339293706985]\n"
     ]
    },
    {
     "name": "stderr",
     "output_type": "stream",
     "text": [
      "training: 63it [00:05, 11.09it/s, train_loss=23.8]\n",
      "testing: 100%|██████████| 63/63 [00:02<00:00, 31.13it/s, eval_loss=24.3]\n",
      "  0%|          | 2/100000 [00:14<206:08:13,  7.42s/it]"
     ]
    },
    {
     "name": "stdout",
     "output_type": "stream",
     "text": [
      "Evaluation Score : [24.304983017936586]\n"
     ]
    },
    {
     "name": "stderr",
     "output_type": "stream",
     "text": [
      "training: 63it [00:05, 12.40it/s, train_loss=6.48]\n",
      "testing: 100%|██████████| 63/63 [00:01<00:00, 32.57it/s, eval_loss=11]\n",
      "  0%|          | 3/100000 [00:21<201:03:06,  7.24s/it]"
     ]
    },
    {
     "name": "stdout",
     "output_type": "stream",
     "text": [
      "Evaluation Score : [11.157331860254681]\n"
     ]
    },
    {
     "name": "stderr",
     "output_type": "stream",
     "text": [
      "training: 63it [00:05, 12.34it/s, train_loss=6.41]\n",
      "testing: 100%|██████████| 63/63 [00:02<00:00, 31.41it/s, eval_loss=11.2]\n",
      "  0%|          | 4/100000 [00:28<199:41:09,  7.19s/it]"
     ]
    },
    {
     "name": "stdout",
     "output_type": "stream",
     "text": [
      "Evaluation Score : [11.237703505016508]\n"
     ]
    },
    {
     "name": "stderr",
     "output_type": "stream",
     "text": [
      "training: 63it [00:05, 12.58it/s, train_loss=6.22]\n",
      "testing: 100%|██████████| 63/63 [00:01<00:00, 32.40it/s, eval_loss=11.1]\n",
      "  0%|          | 5/100000 [00:35<197:20:59,  7.10s/it]"
     ]
    },
    {
     "name": "stdout",
     "output_type": "stream",
     "text": [
      "Evaluation Score : [11.182088745964897]\n"
     ]
    },
    {
     "name": "stderr",
     "output_type": "stream",
     "text": [
      "training: 63it [00:05, 11.63it/s, train_loss=6.24]\n",
      "testing: 100%|██████████| 63/63 [00:02<00:00, 30.83it/s, eval_loss=11.5]\n",
      "  0%|          | 6/100000 [00:43<200:45:40,  7.23s/it]"
     ]
    },
    {
     "name": "stdout",
     "output_type": "stream",
     "text": [
      "Evaluation Score : [11.11631687103756]\n"
     ]
    },
    {
     "name": "stderr",
     "output_type": "stream",
     "text": [
      "training: 63it [00:04, 13.08it/s, train_loss=5.96]\n",
      "testing: 100%|██████████| 63/63 [00:01<00:00, 31.53it/s, eval_loss=11]\n",
      "  0%|          | 7/100000 [00:50<197:03:16,  7.09s/it]"
     ]
    },
    {
     "name": "stdout",
     "output_type": "stream",
     "text": [
      "Evaluation Score : [11.073333225552998]\n"
     ]
    },
    {
     "name": "stderr",
     "output_type": "stream",
     "text": [
      "training: 63it [00:05, 12.57it/s, train_loss=5.8]\n",
      "testing: 100%|██████████| 63/63 [00:01<00:00, 32.34it/s, eval_loss=11]\n",
      "  0%|          | 8/100000 [00:57<195:53:22,  7.05s/it]"
     ]
    },
    {
     "name": "stdout",
     "output_type": "stream",
     "text": [
      "Evaluation Score : [11.028808608887688]\n"
     ]
    },
    {
     "name": "stderr",
     "output_type": "stream",
     "text": [
      "training: 63it [00:04, 12.85it/s, train_loss=5.55]\n",
      "testing: 100%|██████████| 63/63 [00:01<00:00, 32.35it/s, eval_loss=10.6]\n",
      "  0%|          | 9/100000 [01:03<194:09:09,  6.99s/it]"
     ]
    },
    {
     "name": "stdout",
     "output_type": "stream",
     "text": [
      "Evaluation Score : [10.993713742210751]\n"
     ]
    },
    {
     "name": "stderr",
     "output_type": "stream",
     "text": [
      "training: 63it [00:05, 12.32it/s, train_loss=6.23]\n",
      "testing: 100%|██████████| 63/63 [00:02<00:00, 30.30it/s, eval_loss=11.2]\n",
      "  0%|          | 10/100000 [01:11<195:55:13,  7.05s/it]"
     ]
    },
    {
     "name": "stdout",
     "output_type": "stream",
     "text": [
      "Evaluation Score : [10.945703824361166]\n"
     ]
    },
    {
     "name": "stderr",
     "output_type": "stream",
     "text": [
      "training: 63it [00:05, 12.32it/s, train_loss=5.67]\n",
      "testing: 100%|██████████| 63/63 [00:01<00:00, 31.97it/s, eval_loss=11]\n",
      "  0%|          | 11/100000 [01:18<196:11:41,  7.06s/it]"
     ]
    },
    {
     "name": "stdout",
     "output_type": "stream",
     "text": [
      "Evaluation Score : [10.921828769502186]\n"
     ]
    },
    {
     "name": "stderr",
     "output_type": "stream",
     "text": [
      "training: 63it [00:05, 12.34it/s, train_loss=5.57]\n",
      "testing: 100%|██████████| 63/63 [00:02<00:00, 31.49it/s, eval_loss=10.6]\n",
      "  0%|          | 12/100000 [01:25<196:34:41,  7.08s/it]"
     ]
    },
    {
     "name": "stdout",
     "output_type": "stream",
     "text": [
      "Evaluation Score : [10.890107805766757]\n"
     ]
    },
    {
     "name": "stderr",
     "output_type": "stream",
     "text": [
      "training: 63it [00:04, 13.16it/s, train_loss=5.92]\n",
      "testing: 100%|██████████| 63/63 [00:01<00:00, 32.03it/s, eval_loss=10.8]\n",
      "  0%|          | 13/100000 [01:32<193:52:33,  6.98s/it]"
     ]
    },
    {
     "name": "stdout",
     "output_type": "stream",
     "text": [
      "Evaluation Score : [10.861045837402344]\n"
     ]
    },
    {
     "name": "stderr",
     "output_type": "stream",
     "text": [
      "training: 63it [00:04, 12.62it/s, train_loss=5.73]\n",
      "testing: 100%|██████████| 63/63 [00:01<00:00, 32.08it/s, eval_loss=11]\n",
      "  0%|          | 14/100000 [01:39<193:42:23,  6.97s/it]"
     ]
    },
    {
     "name": "stdout",
     "output_type": "stream",
     "text": [
      "Evaluation Score : [10.833865771217951]\n"
     ]
    },
    {
     "name": "stderr",
     "output_type": "stream",
     "text": [
      "training: 63it [00:05, 12.11it/s, train_loss=6.02]\n",
      "testing: 100%|██████████| 63/63 [00:01<00:00, 32.24it/s, eval_loss=11]\n",
      "  0%|          | 15/100000 [01:46<195:15:17,  7.03s/it]"
     ]
    },
    {
     "name": "stdout",
     "output_type": "stream",
     "text": [
      "Evaluation Score : [10.823567587231834]\n"
     ]
    },
    {
     "name": "stderr",
     "output_type": "stream",
     "text": [
      "training: 63it [00:05, 12.35it/s, train_loss=5.88]\n",
      "testing: 100%|██████████| 63/63 [00:01<00:00, 31.55it/s, eval_loss=10.6]\n",
      "  0%|          | 16/100000 [01:53<195:50:47,  7.05s/it]"
     ]
    },
    {
     "name": "stdout",
     "output_type": "stream",
     "text": [
      "Evaluation Score : [10.772566129290869]\n"
     ]
    },
    {
     "name": "stderr",
     "output_type": "stream",
     "text": [
      "training: 63it [00:05, 12.27it/s, train_loss=5.5]\n",
      "testing: 100%|██████████| 63/63 [00:01<00:00, 32.18it/s, eval_loss=10.7]\n",
      "  0%|          | 17/100000 [02:00<196:11:59,  7.06s/it]"
     ]
    },
    {
     "name": "stdout",
     "output_type": "stream",
     "text": [
      "Evaluation Score : [10.755174742804634]\n"
     ]
    },
    {
     "name": "stderr",
     "output_type": "stream",
     "text": [
      "training: 63it [00:04, 12.77it/s, train_loss=5.63]\n",
      "testing: 100%|██████████| 63/63 [00:02<00:00, 29.66it/s, eval_loss=10.5]\n",
      "  0%|          | 18/100000 [02:07<196:10:06,  7.06s/it]"
     ]
    },
    {
     "name": "stdout",
     "output_type": "stream",
     "text": [
      "Evaluation Score : [10.744616478208512]\n"
     ]
    },
    {
     "name": "stderr",
     "output_type": "stream",
     "text": [
      "training: 63it [00:04, 12.79it/s, train_loss=5.71]\n",
      "testing: 100%|██████████| 63/63 [00:01<00:00, 32.79it/s, eval_loss=10.3]\n",
      "  0%|          | 19/100000 [02:14<194:23:12,  7.00s/it]"
     ]
    },
    {
     "name": "stdout",
     "output_type": "stream",
     "text": [
      "Evaluation Score : [10.734980083647228]\n"
     ]
    },
    {
     "name": "stderr",
     "output_type": "stream",
     "text": [
      "training: 63it [00:04, 12.83it/s, train_loss=5.53]\n",
      "testing: 100%|██████████| 63/63 [00:01<00:00, 31.55it/s, eval_loss=10.6]\n",
      "  0%|          | 20/100000 [02:21<193:39:22,  6.97s/it]"
     ]
    },
    {
     "name": "stdout",
     "output_type": "stream",
     "text": [
      "Evaluation Score : [10.713522865658714]\n"
     ]
    },
    {
     "name": "stderr",
     "output_type": "stream",
     "text": [
      "training: 63it [00:04, 13.05it/s, train_loss=5.42]\n",
      "testing: 100%|██████████| 63/63 [00:01<00:00, 31.65it/s, eval_loss=10.7]\n",
      "  0%|          | 21/100000 [02:28<192:23:12,  6.93s/it]"
     ]
    },
    {
     "name": "stdout",
     "output_type": "stream",
     "text": [
      "Evaluation Score : [10.694728124709357]\n"
     ]
    },
    {
     "name": "stderr",
     "output_type": "stream",
     "text": [
      "training: 63it [00:05, 12.54it/s, train_loss=5.75]\n",
      "testing: 100%|██████████| 63/63 [00:02<00:00, 29.69it/s, eval_loss=10.8]\n",
      "  0%|          | 22/100000 [02:35<194:13:13,  6.99s/it]"
     ]
    },
    {
     "name": "stdout",
     "output_type": "stream",
     "text": [
      "Evaluation Score : [10.676714654952761]\n"
     ]
    },
    {
     "name": "stderr",
     "output_type": "stream",
     "text": [
      "training: 63it [00:04, 12.73it/s, train_loss=5.76]\n",
      "testing: 100%|██████████| 63/63 [00:02<00:00, 31.11it/s, eval_loss=10.4]\n",
      "  0%|          | 23/100000 [02:42<194:04:35,  6.99s/it]"
     ]
    },
    {
     "name": "stdout",
     "output_type": "stream",
     "text": [
      "Evaluation Score : [10.674028956700885]\n"
     ]
    },
    {
     "name": "stderr",
     "output_type": "stream",
     "text": [
      "training: 63it [00:04, 13.02it/s, train_loss=5.82]\n",
      "testing: 100%|██████████| 63/63 [00:01<00:00, 31.82it/s, eval_loss=10.8]\n",
      "  0%|          | 24/100000 [02:48<192:41:17,  6.94s/it]"
     ]
    },
    {
     "name": "stdout",
     "output_type": "stream",
     "text": [
      "Evaluation Score : [10.667009686666821]\n"
     ]
    },
    {
     "name": "stderr",
     "output_type": "stream",
     "text": [
      "training: 63it [00:04, 12.91it/s, train_loss=5.42]\n",
      "testing: 100%|██████████| 63/63 [00:02<00:00, 31.16it/s, eval_loss=10.4]\n",
      "  0%|          | 25/100000 [02:55<192:24:42,  6.93s/it]"
     ]
    },
    {
     "name": "stdout",
     "output_type": "stream",
     "text": [
      "Evaluation Score : [10.657704141404894]\n"
     ]
    },
    {
     "name": "stderr",
     "output_type": "stream",
     "text": [
      "training: 63it [00:04, 12.72it/s, train_loss=5.55]\n",
      "testing: 100%|██████████| 63/63 [00:02<00:00, 31.29it/s, eval_loss=11.1]\n",
      "  0%|          | 26/100000 [03:02<192:45:13,  6.94s/it]"
     ]
    },
    {
     "name": "stdout",
     "output_type": "stream",
     "text": [
      "Evaluation Score : [10.643300540863521]\n"
     ]
    },
    {
     "name": "stderr",
     "output_type": "stream",
     "text": [
      "training: 63it [00:05, 12.54it/s, train_loss=5.62]\n",
      "testing: 100%|██████████| 63/63 [00:01<00:00, 32.06it/s, eval_loss=10.7]\n",
      "  0%|          | 27/100000 [03:09<193:09:39,  6.96s/it]"
     ]
    },
    {
     "name": "stdout",
     "output_type": "stream",
     "text": [
      "Evaluation Score : [10.64337542700389]\n"
     ]
    },
    {
     "name": "stderr",
     "output_type": "stream",
     "text": [
      "training: 63it [00:04, 12.78it/s, train_loss=5.69]\n",
      "testing: 100%|██████████| 63/63 [00:01<00:00, 31.83it/s, eval_loss=10.4]\n",
      "  0%|          | 28/100000 [03:16<192:47:25,  6.94s/it]"
     ]
    },
    {
     "name": "stdout",
     "output_type": "stream",
     "text": [
      "Evaluation Score : [10.637920061747232]\n"
     ]
    },
    {
     "name": "stderr",
     "output_type": "stream",
     "text": [
      "training: 63it [00:04, 12.98it/s, train_loss=5.52]\n",
      "testing: 100%|██████████| 63/63 [00:01<00:00, 32.47it/s, eval_loss=10.5]\n",
      "  0%|          | 29/100000 [03:23<191:35:45,  6.90s/it]"
     ]
    },
    {
     "name": "stdout",
     "output_type": "stream",
     "text": [
      "Evaluation Score : [10.623291167001875]\n"
     ]
    },
    {
     "name": "stderr",
     "output_type": "stream",
     "text": [
      "training: 63it [00:04, 12.74it/s, train_loss=5.48]\n",
      "testing: 100%|██████████| 63/63 [00:01<00:00, 31.64it/s, eval_loss=10.9]\n",
      "  0%|          | 30/100000 [03:30<191:55:16,  6.91s/it]"
     ]
    },
    {
     "name": "stdout",
     "output_type": "stream",
     "text": [
      "Evaluation Score : [10.627534306238568]\n"
     ]
    },
    {
     "name": "stderr",
     "output_type": "stream",
     "text": [
      "training: 63it [00:05, 12.35it/s, train_loss=5.34]\n",
      "testing: 100%|██████████| 63/63 [00:01<00:00, 31.67it/s, eval_loss=10.6]\n",
      "  0%|          | 31/100000 [03:37<193:26:27,  6.97s/it]"
     ]
    },
    {
     "name": "stdout",
     "output_type": "stream",
     "text": [
      "Evaluation Score : [10.617528097970146]\n"
     ]
    },
    {
     "name": "stderr",
     "output_type": "stream",
     "text": [
      "training: 63it [00:04, 12.77it/s, train_loss=5.6]\n",
      "testing: 100%|██████████| 63/63 [00:02<00:00, 31.28it/s, eval_loss=10.8]\n",
      "  0%|          | 32/100000 [03:44<193:18:22,  6.96s/it]"
     ]
    },
    {
     "name": "stdout",
     "output_type": "stream",
     "text": [
      "Evaluation Score : [10.619155747549874]\n"
     ]
    },
    {
     "name": "stderr",
     "output_type": "stream",
     "text": [
      "training: 63it [00:04, 12.70it/s, train_loss=5.45]\n",
      "testing: 100%|██████████| 63/63 [00:01<00:00, 32.04it/s, eval_loss=10.6]\n",
      "  0%|          | 33/100000 [03:51<193:03:02,  6.95s/it]"
     ]
    },
    {
     "name": "stdout",
     "output_type": "stream",
     "text": [
      "Evaluation Score : [10.620077118041023]\n"
     ]
    },
    {
     "name": "stderr",
     "output_type": "stream",
     "text": [
      "training: 63it [00:05, 12.60it/s, train_loss=5.46]\n",
      "testing: 100%|██████████| 63/63 [00:01<00:00, 32.06it/s, eval_loss=10.5]\n",
      "  0%|          | 34/100000 [03:58<193:12:06,  6.96s/it]"
     ]
    },
    {
     "name": "stdout",
     "output_type": "stream",
     "text": [
      "Evaluation Score : [10.609735155862476]\n"
     ]
    },
    {
     "name": "stderr",
     "output_type": "stream",
     "text": [
      "training: 63it [00:04, 12.60it/s, train_loss=5.63]\n",
      "testing: 100%|██████████| 63/63 [00:01<00:00, 31.61it/s, eval_loss=10.7]\n",
      "  0%|          | 35/100000 [04:05<193:30:28,  6.97s/it]"
     ]
    },
    {
     "name": "stdout",
     "output_type": "stream",
     "text": [
      "Evaluation Score : [10.611083772447374]\n"
     ]
    },
    {
     "name": "stderr",
     "output_type": "stream",
     "text": [
      "training: 63it [00:04, 12.73it/s, train_loss=5.74]\n",
      "testing: 100%|██████████| 63/63 [00:01<00:00, 32.36it/s, eval_loss=10.7]\n",
      "  0%|          | 36/100000 [04:12<192:56:20,  6.95s/it]"
     ]
    },
    {
     "name": "stdout",
     "output_type": "stream",
     "text": [
      "Evaluation Score : [10.607786496480307]\n"
     ]
    },
    {
     "name": "stderr",
     "output_type": "stream",
     "text": [
      "training: 63it [00:04, 12.75it/s, train_loss=5.42]\n",
      "testing: 100%|██████████| 63/63 [00:02<00:00, 31.08it/s, eval_loss=10.6]\n",
      "  0%|          | 37/100000 [04:19<193:08:34,  6.96s/it]"
     ]
    },
    {
     "name": "stdout",
     "output_type": "stream",
     "text": [
      "Evaluation Score : [10.614542446439229]\n"
     ]
    },
    {
     "name": "stderr",
     "output_type": "stream",
     "text": [
      "training: 63it [00:04, 12.60it/s, train_loss=5.57]\n",
      "testing: 100%|██████████| 63/63 [00:01<00:00, 32.08it/s, eval_loss=10.6]\n",
      "  0%|          | 38/100000 [04:26<193:13:19,  6.96s/it]"
     ]
    },
    {
     "name": "stdout",
     "output_type": "stream",
     "text": [
      "Evaluation Score : [10.609439607650515]\n"
     ]
    },
    {
     "name": "stderr",
     "output_type": "stream",
     "text": [
      "training: 63it [00:04, 12.89it/s, train_loss=5.2]\n",
      "testing: 100%|██████████| 63/63 [00:02<00:00, 29.75it/s, eval_loss=10.2]\n",
      "  0%|          | 39/100000 [04:33<193:38:52,  6.97s/it]"
     ]
    },
    {
     "name": "stdout",
     "output_type": "stream",
     "text": [
      "Evaluation Score : [10.605834325154623]\n"
     ]
    },
    {
     "name": "stderr",
     "output_type": "stream",
     "text": [
      "training: 63it [00:04, 12.74it/s, train_loss=5.71]\n",
      "testing: 100%|██████████| 63/63 [00:01<00:00, 31.58it/s, eval_loss=10.7]\n",
      "  0%|          | 40/100000 [04:40<193:23:56,  6.97s/it]"
     ]
    },
    {
     "name": "stdout",
     "output_type": "stream",
     "text": [
      "Evaluation Score : [10.611895061674572]\n"
     ]
    },
    {
     "name": "stderr",
     "output_type": "stream",
     "text": [
      "training: 63it [00:04, 12.75it/s, train_loss=5.38]\n",
      "testing: 100%|██████████| 63/63 [00:02<00:00, 31.44it/s, eval_loss=10.5]\n",
      "  0%|          | 41/100000 [04:47<193:15:12,  6.96s/it]"
     ]
    },
    {
     "name": "stdout",
     "output_type": "stream",
     "text": [
      "Evaluation Score : [10.603747049967447]\n"
     ]
    },
    {
     "name": "stderr",
     "output_type": "stream",
     "text": [
      "training: 63it [00:04, 12.65it/s, train_loss=5.85]\n",
      "testing: 100%|██████████| 63/63 [00:01<00:00, 32.41it/s, eval_loss=10.6]\n",
      "  0%|          | 42/100000 [04:54<192:58:18,  6.95s/it]"
     ]
    },
    {
     "name": "stdout",
     "output_type": "stream",
     "text": [
      "Evaluation Score : [10.60848021128821]\n"
     ]
    },
    {
     "name": "stderr",
     "output_type": "stream",
     "text": [
      "training: 63it [00:04, 12.87it/s, train_loss=5.37]\n",
      "testing: 100%|██████████| 63/63 [00:02<00:00, 30.56it/s, eval_loss=10.4]\n",
      "  0%|          | 43/100000 [05:01<193:04:14,  6.95s/it]"
     ]
    },
    {
     "name": "stdout",
     "output_type": "stream",
     "text": [
      "Evaluation Score : [10.60081692347451]\n"
     ]
    },
    {
     "name": "stderr",
     "output_type": "stream",
     "text": [
      "training: 63it [00:04, 12.69it/s, train_loss=5.75]\n",
      "testing: 100%|██████████| 63/63 [00:02<00:00, 31.36it/s, eval_loss=10.6]\n",
      "  0%|          | 44/100000 [05:08<193:16:04,  6.96s/it]"
     ]
    },
    {
     "name": "stdout",
     "output_type": "stream",
     "text": [
      "Evaluation Score : [10.608537567986382]\n"
     ]
    },
    {
     "name": "stderr",
     "output_type": "stream",
     "text": [
      "training: 63it [00:04, 12.61it/s, train_loss=5.79]\n",
      "testing: 100%|██████████| 63/63 [00:01<00:00, 31.78it/s, eval_loss=10.7]\n",
      "  0%|          | 45/100000 [05:15<193:26:43,  6.97s/it]"
     ]
    },
    {
     "name": "stdout",
     "output_type": "stream",
     "text": [
      "Evaluation Score : [10.614818830338736]\n"
     ]
    },
    {
     "name": "stderr",
     "output_type": "stream",
     "text": [
      "training: 63it [00:04, 12.65it/s, train_loss=5.71]\n",
      "testing: 100%|██████████| 63/63 [00:01<00:00, 31.51it/s, eval_loss=10.4]\n",
      "  0%|          | 46/100000 [05:21<193:34:50,  6.97s/it]"
     ]
    },
    {
     "name": "stdout",
     "output_type": "stream",
     "text": [
      "Evaluation Score : [10.605010653298999]\n"
     ]
    },
    {
     "name": "stderr",
     "output_type": "stream",
     "text": [
      "training: 63it [00:05, 12.12it/s, train_loss=5.51]\n",
      "testing: 100%|██████████| 63/63 [00:01<00:00, 31.52it/s, eval_loss=10.4]\n",
      "  0%|          | 47/100000 [05:29<195:29:05,  7.04s/it]"
     ]
    },
    {
     "name": "stdout",
     "output_type": "stream",
     "text": [
      "Evaluation Score : [10.609858073885478]\n"
     ]
    },
    {
     "name": "stderr",
     "output_type": "stream",
     "text": [
      "training: 63it [00:05, 12.16it/s, train_loss=5.61]\n",
      "testing: 100%|██████████| 63/63 [00:01<00:00, 31.70it/s, eval_loss=10.7]\n",
      "  0%|          | 48/100000 [05:36<196:35:25,  7.08s/it]"
     ]
    },
    {
     "name": "stdout",
     "output_type": "stream",
     "text": [
      "Evaluation Score : [10.617271181136843]\n"
     ]
    },
    {
     "name": "stderr",
     "output_type": "stream",
     "text": [
      "training: 63it [00:04, 12.82it/s, train_loss=5.59]\n",
      "testing: 100%|██████████| 63/63 [00:02<00:00, 31.21it/s, eval_loss=10.6]\n",
      "  0%|          | 49/100000 [05:43<195:23:32,  7.04s/it]"
     ]
    },
    {
     "name": "stdout",
     "output_type": "stream",
     "text": [
      "Evaluation Score : [10.604820160638718]\n"
     ]
    },
    {
     "name": "stderr",
     "output_type": "stream",
     "text": [
      "training: 63it [00:04, 12.90it/s, train_loss=5.64]\n",
      "testing: 100%|██████████| 63/63 [00:01<00:00, 32.06it/s, eval_loss=10.5]\n",
      "  0%|          | 50/100000 [05:50<193:50:47,  6.98s/it]"
     ]
    },
    {
     "name": "stdout",
     "output_type": "stream",
     "text": [
      "Evaluation Score : [10.609562313745892]\n"
     ]
    },
    {
     "name": "stderr",
     "output_type": "stream",
     "text": [
      "training: 63it [00:04, 12.82it/s, train_loss=5.65]\n",
      "testing: 100%|██████████| 63/63 [00:01<00:00, 31.61it/s, eval_loss=10.4]\n",
      "  0%|          | 51/100000 [05:57<193:15:29,  6.96s/it]"
     ]
    },
    {
     "name": "stdout",
     "output_type": "stream",
     "text": [
      "Evaluation Score : [10.614442643665132]\n"
     ]
    },
    {
     "name": "stderr",
     "output_type": "stream",
     "text": [
      "training: 63it [00:05, 12.56it/s, train_loss=5.4]\n",
      "testing: 100%|██████████| 63/63 [00:01<00:00, 31.61it/s, eval_loss=10.2]\n",
      "  0%|          | 52/100000 [06:04<193:41:19,  6.98s/it]"
     ]
    },
    {
     "name": "stdout",
     "output_type": "stream",
     "text": [
      "Evaluation Score : [10.602970077877952]\n"
     ]
    },
    {
     "name": "stderr",
     "output_type": "stream",
     "text": [
      "training: 63it [00:04, 12.77it/s, train_loss=5.32]\n",
      "testing: 100%|██████████| 63/63 [00:01<00:00, 32.03it/s, eval_loss=10.3]\n",
      "  0%|          | 53/100000 [06:10<193:04:58,  6.95s/it]"
     ]
    },
    {
     "name": "stdout",
     "output_type": "stream",
     "text": [
      "Evaluation Score : [10.605067798069545]\n"
     ]
    },
    {
     "name": "stderr",
     "output_type": "stream",
     "text": [
      "training: 63it [00:04, 12.70it/s, train_loss=5.73]\n",
      "testing: 100%|██████████| 63/63 [00:01<00:00, 31.92it/s, eval_loss=10.5]\n",
      "  0%|          | 54/100000 [06:17<192:57:03,  6.95s/it]"
     ]
    },
    {
     "name": "stdout",
     "output_type": "stream",
     "text": [
      "Evaluation Score : [10.608311516898018]\n"
     ]
    },
    {
     "name": "stderr",
     "output_type": "stream",
     "text": [
      "training: 63it [00:04, 12.84it/s, train_loss=5.48]\n",
      "testing: 100%|██████████| 63/63 [00:01<00:00, 31.81it/s, eval_loss=10.6]\n",
      "  0%|          | 55/100000 [06:24<192:27:42,  6.93s/it]"
     ]
    },
    {
     "name": "stdout",
     "output_type": "stream",
     "text": [
      "Evaluation Score : [10.613917471870543]\n"
     ]
    },
    {
     "name": "stderr",
     "output_type": "stream",
     "text": [
      "training: 63it [00:04, 12.66it/s, train_loss=5.9]\n",
      "testing: 100%|██████████| 63/63 [00:01<00:00, 31.63it/s, eval_loss=10.4]\n",
      "  0%|          | 56/100000 [06:31<192:47:52,  6.94s/it]"
     ]
    },
    {
     "name": "stdout",
     "output_type": "stream",
     "text": [
      "Evaluation Score : [10.613411615765283]\n"
     ]
    },
    {
     "name": "stderr",
     "output_type": "stream",
     "text": [
      "training: 63it [00:04, 12.83it/s, train_loss=6.04]\n",
      "testing: 100%|██████████| 63/63 [00:01<00:00, 31.65it/s, eval_loss=10.7]\n",
      "  0%|          | 57/100000 [06:38<192:28:23,  6.93s/it]"
     ]
    },
    {
     "name": "stdout",
     "output_type": "stream",
     "text": [
      "Evaluation Score : [10.608503477913994]\n"
     ]
    },
    {
     "name": "stderr",
     "output_type": "stream",
     "text": [
      "training: 63it [00:04, 12.77it/s, train_loss=5.56]\n",
      "testing: 100%|██████████| 63/63 [00:01<00:00, 31.68it/s, eval_loss=10.3]\n",
      "  0%|          | 58/100000 [06:45<192:25:11,  6.93s/it]"
     ]
    },
    {
     "name": "stdout",
     "output_type": "stream",
     "text": [
      "Evaluation Score : [10.616317991226438]\n"
     ]
    },
    {
     "name": "stderr",
     "output_type": "stream",
     "text": [
      "training: 63it [00:05, 12.54it/s, train_loss=5.76]\n",
      "testing: 100%|██████████| 63/63 [00:02<00:00, 31.21it/s, eval_loss=10.5]\n",
      "  0%|          | 59/100000 [06:52<193:22:24,  6.97s/it]"
     ]
    },
    {
     "name": "stdout",
     "output_type": "stream",
     "text": [
      "Evaluation Score : [10.611873732672798]\n"
     ]
    },
    {
     "name": "stderr",
     "output_type": "stream",
     "text": [
      "training: 63it [00:04, 12.62it/s, train_loss=5.69]\n",
      "testing: 100%|██████████| 63/63 [00:02<00:00, 30.16it/s, eval_loss=10.4]\n",
      "  0%|          | 60/100000 [06:59<194:22:37,  7.00s/it]"
     ]
    },
    {
     "name": "stdout",
     "output_type": "stream",
     "text": [
      "Evaluation Score : [10.612207397582038]\n"
     ]
    },
    {
     "name": "stderr",
     "output_type": "stream",
     "text": [
      "training: 63it [00:04, 12.77it/s, train_loss=5.29]\n",
      "testing: 100%|██████████| 63/63 [00:01<00:00, 32.24it/s, eval_loss=10.8]\n",
      "  0%|          | 61/100000 [07:06<193:26:39,  6.97s/it]"
     ]
    },
    {
     "name": "stdout",
     "output_type": "stream",
     "text": [
      "Evaluation Score : [10.61650816599528]\n"
     ]
    },
    {
     "name": "stderr",
     "output_type": "stream",
     "text": [
      "training: 63it [00:04, 12.89it/s, train_loss=5.7]\n",
      "testing: 100%|██████████| 63/63 [00:01<00:00, 31.65it/s, eval_loss=10.8]\n",
      "  0%|          | 62/100000 [07:13<192:43:30,  6.94s/it]"
     ]
    },
    {
     "name": "stdout",
     "output_type": "stream",
     "text": [
      "Evaluation Score : [10.61707605634417]\n"
     ]
    },
    {
     "name": "stderr",
     "output_type": "stream",
     "text": [
      "training: 63it [00:04, 12.68it/s, train_loss=5.62]\n",
      "testing: 100%|██████████| 63/63 [00:01<00:00, 32.14it/s, eval_loss=10.6]\n",
      "  0%|          | 63/100000 [07:20<192:37:35,  6.94s/it]"
     ]
    },
    {
     "name": "stdout",
     "output_type": "stream",
     "text": [
      "Evaluation Score : [10.613448657686748]\n"
     ]
    },
    {
     "name": "stderr",
     "output_type": "stream",
     "text": [
      "training: 63it [00:04, 12.81it/s, train_loss=5.17]\n",
      "testing: 100%|██████████| 63/63 [00:02<00:00, 31.43it/s, eval_loss=10.6]\n",
      "  0%|          | 64/100000 [07:27<192:31:40,  6.94s/it]"
     ]
    },
    {
     "name": "stdout",
     "output_type": "stream",
     "text": [
      "Evaluation Score : [10.612261439126636]\n"
     ]
    },
    {
     "name": "stderr",
     "output_type": "stream",
     "text": [
      "training: 63it [00:05, 12.12it/s, train_loss=5.51]\n",
      "testing: 100%|██████████| 63/63 [00:01<00:00, 31.57it/s, eval_loss=10.2]\n",
      "  0%|          | 65/100000 [07:34<194:42:19,  7.01s/it]"
     ]
    },
    {
     "name": "stdout",
     "output_type": "stream",
     "text": [
      "Evaluation Score : [10.616354412502712]\n"
     ]
    },
    {
     "name": "stderr",
     "output_type": "stream",
     "text": [
      "training: 63it [00:04, 12.77it/s, train_loss=5.55]\n",
      "testing: 100%|██████████| 63/63 [00:02<00:00, 31.50it/s, eval_loss=10.5]\n",
      "  0%|          | 66/100000 [07:41<194:02:54,  6.99s/it]"
     ]
    },
    {
     "name": "stdout",
     "output_type": "stream",
     "text": [
      "Evaluation Score : [10.615524549332877]\n"
     ]
    },
    {
     "name": "stderr",
     "output_type": "stream",
     "text": [
      "training: 63it [00:04, 12.73it/s, train_loss=5.22]\n",
      "testing: 100%|██████████| 63/63 [00:01<00:00, 31.63it/s, eval_loss=10.7]\n",
      "  0%|          | 67/100000 [07:48<193:38:49,  6.98s/it]"
     ]
    },
    {
     "name": "stdout",
     "output_type": "stream",
     "text": [
      "Evaluation Score : [10.620481960357182]\n"
     ]
    },
    {
     "name": "stderr",
     "output_type": "stream",
     "text": [
      "training: 63it [00:05, 12.54it/s, train_loss=5.68]\n",
      "testing: 100%|██████████| 63/63 [00:01<00:00, 32.39it/s, eval_loss=10.4]\n",
      "  0%|          | 68/100000 [07:55<193:36:31,  6.97s/it]"
     ]
    },
    {
     "name": "stdout",
     "output_type": "stream",
     "text": [
      "Evaluation Score : [10.61754998706636]\n"
     ]
    },
    {
     "name": "stderr",
     "output_type": "stream",
     "text": [
      "training: 63it [00:05, 12.32it/s, train_loss=4.74]\n",
      "testing: 100%|██████████| 63/63 [00:01<00:00, 32.38it/s, eval_loss=10.3]\n",
      "  0%|          | 69/100000 [08:02<194:20:39,  7.00s/it]"
     ]
    },
    {
     "name": "stdout",
     "output_type": "stream",
     "text": [
      "Evaluation Score : [10.622063470265221]\n"
     ]
    },
    {
     "name": "stderr",
     "output_type": "stream",
     "text": [
      "training: 63it [00:04, 12.88it/s, train_loss=5.69]\n",
      "testing: 100%|██████████| 63/63 [00:01<00:00, 32.73it/s, eval_loss=10.5]\n",
      "  0%|          | 70/100000 [08:09<192:49:55,  6.95s/it]"
     ]
    },
    {
     "name": "stdout",
     "output_type": "stream",
     "text": [
      "Evaluation Score : [10.620184792412651]\n"
     ]
    },
    {
     "name": "stderr",
     "output_type": "stream",
     "text": [
      "training: 63it [00:04, 12.64it/s, train_loss=5.65]\n",
      "testing: 100%|██████████| 63/63 [00:01<00:00, 32.23it/s, eval_loss=10.3]\n",
      "  0%|          | 71/100000 [08:16<192:47:09,  6.95s/it]"
     ]
    },
    {
     "name": "stdout",
     "output_type": "stream",
     "text": [
      "Evaluation Score : [10.62677113972013]\n"
     ]
    },
    {
     "name": "stderr",
     "output_type": "stream",
     "text": [
      "training: 63it [00:05, 12.44it/s, train_loss=5.83]\n",
      "testing: 100%|██████████| 63/63 [00:02<00:00, 30.76it/s, eval_loss=11.2]\n",
      "  0%|          | 72/100000 [08:23<194:12:42,  7.00s/it]"
     ]
    },
    {
     "name": "stdout",
     "output_type": "stream",
     "text": [
      "Evaluation Score : [10.610374314444405]\n"
     ]
    },
    {
     "name": "stderr",
     "output_type": "stream",
     "text": [
      "training: 63it [00:05, 12.26it/s, train_loss=5.57]\n",
      "testing: 100%|██████████| 63/63 [00:01<00:00, 32.49it/s, eval_loss=10.8]\n",
      "  0%|          | 73/100000 [08:30<194:55:40,  7.02s/it]"
     ]
    },
    {
     "name": "stdout",
     "output_type": "stream",
     "text": [
      "Evaluation Score : [10.622238204592751]\n"
     ]
    },
    {
     "name": "stderr",
     "output_type": "stream",
     "text": [
      "training: 63it [00:04, 12.67it/s, train_loss=5.3]\n",
      "testing: 100%|██████████| 63/63 [00:01<00:00, 31.69it/s, eval_loss=10.2]\n",
      "  0%|          | 74/100000 [08:37<194:26:32,  7.01s/it]"
     ]
    },
    {
     "name": "stdout",
     "output_type": "stream",
     "text": [
      "Evaluation Score : [10.614179626343743]\n"
     ]
    },
    {
     "name": "stderr",
     "output_type": "stream",
     "text": [
      "training: 63it [00:04, 12.93it/s, train_loss=5.5]\n",
      "testing: 100%|██████████| 63/63 [00:01<00:00, 31.86it/s, eval_loss=10.7]\n",
      "  0%|          | 75/100000 [08:44<193:11:16,  6.96s/it]"
     ]
    },
    {
     "name": "stdout",
     "output_type": "stream",
     "text": [
      "Evaluation Score : [10.614914894104004]\n"
     ]
    },
    {
     "name": "stderr",
     "output_type": "stream",
     "text": [
      "training: 63it [00:04, 13.19it/s, train_loss=5.93]\n",
      "testing: 100%|██████████| 63/63 [00:01<00:00, 32.05it/s, eval_loss=10.5]\n",
      "  0%|          | 76/100000 [08:51<191:23:36,  6.90s/it]"
     ]
    },
    {
     "name": "stdout",
     "output_type": "stream",
     "text": [
      "Evaluation Score : [10.61172178056505]\n"
     ]
    },
    {
     "name": "stderr",
     "output_type": "stream",
     "text": [
      "training: 63it [00:05, 12.48it/s, train_loss=5.78]\n",
      "testing: 100%|██████████| 63/63 [00:02<00:00, 30.59it/s, eval_loss=10.9]\n",
      "  0%|          | 77/100000 [08:58<193:11:07,  6.96s/it]"
     ]
    },
    {
     "name": "stdout",
     "output_type": "stream",
     "text": [
      "Evaluation Score : [10.616612555488707]\n"
     ]
    },
    {
     "name": "stderr",
     "output_type": "stream",
     "text": [
      "training: 63it [00:05, 12.47it/s, train_loss=5.69]\n",
      "testing: 100%|██████████| 63/63 [00:01<00:00, 31.72it/s, eval_loss=10.8]\n",
      "  0%|          | 78/100000 [09:05<193:51:33,  6.98s/it]"
     ]
    },
    {
     "name": "stdout",
     "output_type": "stream",
     "text": [
      "Evaluation Score : [10.621189162844704]\n"
     ]
    },
    {
     "name": "stderr",
     "output_type": "stream",
     "text": [
      "training: 63it [00:04, 12.72it/s, train_loss=5.49]\n",
      "testing: 100%|██████████| 63/63 [00:01<00:00, 31.62it/s, eval_loss=11.1]\n",
      "  0%|          | 79/100000 [09:12<193:32:39,  6.97s/it]"
     ]
    },
    {
     "name": "stdout",
     "output_type": "stream",
     "text": [
      "Evaluation Score : [10.624863987877255]\n"
     ]
    },
    {
     "name": "stderr",
     "output_type": "stream",
     "text": [
      "training: 63it [00:04, 12.68it/s, train_loss=5.2]\n",
      "testing: 100%|██████████| 63/63 [00:01<00:00, 31.75it/s, eval_loss=10.5]\n",
      "  0%|          | 80/100000 [09:19<193:24:21,  6.97s/it]"
     ]
    },
    {
     "name": "stdout",
     "output_type": "stream",
     "text": [
      "Evaluation Score : [10.627864746820359]\n"
     ]
    },
    {
     "name": "stderr",
     "output_type": "stream",
     "text": [
      "training: 63it [00:04, 12.80it/s, train_loss=5.51]\n",
      "testing: 100%|██████████| 63/63 [00:02<00:00, 30.04it/s, eval_loss=11]\n",
      "  0%|          | 81/100000 [09:26<193:50:43,  6.98s/it]"
     ]
    },
    {
     "name": "stdout",
     "output_type": "stream",
     "text": [
      "Evaluation Score : [10.62492741478814]\n"
     ]
    },
    {
     "name": "stderr",
     "output_type": "stream",
     "text": [
      "training: 63it [00:05, 12.57it/s, train_loss=6]\n",
      "testing: 100%|██████████| 63/63 [00:01<00:00, 31.78it/s, eval_loss=10.9]\n",
      "  0%|          | 82/100000 [09:33<193:56:52,  6.99s/it]"
     ]
    },
    {
     "name": "stdout",
     "output_type": "stream",
     "text": [
      "Evaluation Score : [10.618579985603454]\n"
     ]
    },
    {
     "name": "stderr",
     "output_type": "stream",
     "text": [
      "training: 63it [00:04, 12.89it/s, train_loss=5.51]\n",
      "testing: 100%|██████████| 63/63 [00:01<00:00, 31.66it/s, eval_loss=10.6]\n",
      "  0%|          | 83/100000 [09:39<193:02:12,  6.96s/it]"
     ]
    },
    {
     "name": "stdout",
     "output_type": "stream",
     "text": [
      "Evaluation Score : [10.613715716770717]\n"
     ]
    },
    {
     "name": "stderr",
     "output_type": "stream",
     "text": [
      "training: 63it [00:04, 12.76it/s, train_loss=6.15]\n",
      "testing: 100%|██████████| 63/63 [00:01<00:00, 31.78it/s, eval_loss=10.6]\n",
      "  0%|          | 84/100000 [09:46<192:46:19,  6.95s/it]"
     ]
    },
    {
     "name": "stdout",
     "output_type": "stream",
     "text": [
      "Evaluation Score : [10.628016698928107]\n"
     ]
    },
    {
     "name": "stderr",
     "output_type": "stream",
     "text": [
      "training: 63it [00:04, 12.72it/s, train_loss=5.34]\n",
      "testing: 100%|██████████| 63/63 [00:02<00:00, 31.43it/s, eval_loss=10.3]\n",
      "  0%|          | 85/100000 [09:53<192:53:45,  6.95s/it]"
     ]
    },
    {
     "name": "stdout",
     "output_type": "stream",
     "text": [
      "Evaluation Score : [10.61631835453094]\n"
     ]
    },
    {
     "name": "stderr",
     "output_type": "stream",
     "text": [
      "training: 63it [00:05, 12.48it/s, train_loss=5.59]\n",
      "testing: 100%|██████████| 63/63 [00:01<00:00, 32.27it/s, eval_loss=10.8]\n",
      "  0%|          | 86/100000 [10:00<193:20:50,  6.97s/it]"
     ]
    },
    {
     "name": "stdout",
     "output_type": "stream",
     "text": [
      "Evaluation Score : [10.61905680762397]\n"
     ]
    },
    {
     "name": "stderr",
     "output_type": "stream",
     "text": [
      "training: 63it [00:04, 12.85it/s, train_loss=5.53]\n",
      "testing: 100%|██████████| 63/63 [00:02<00:00, 31.49it/s, eval_loss=10.5]\n",
      "  0%|          | 87/100000 [10:07<192:51:43,  6.95s/it]"
     ]
    },
    {
     "name": "stdout",
     "output_type": "stream",
     "text": [
      "Evaluation Score : [10.61922866579086]\n"
     ]
    },
    {
     "name": "stderr",
     "output_type": "stream",
     "text": [
      "training: 63it [00:04, 12.98it/s, train_loss=5.73]\n",
      "testing: 100%|██████████| 63/63 [00:01<00:00, 31.81it/s, eval_loss=11.1]\n",
      "  0%|          | 88/100000 [10:14<191:55:24,  6.92s/it]"
     ]
    },
    {
     "name": "stdout",
     "output_type": "stream",
     "text": [
      "Evaluation Score : [10.617712565830775]\n"
     ]
    },
    {
     "name": "stderr",
     "output_type": "stream",
     "text": [
      "training: 63it [00:04, 13.09it/s, train_loss=5.85]\n",
      "testing: 100%|██████████| 63/63 [00:01<00:00, 33.88it/s, eval_loss=10.9]\n",
      "  0%|          | 89/100000 [10:21<189:55:48,  6.84s/it]"
     ]
    },
    {
     "name": "stdout",
     "output_type": "stream",
     "text": [
      "Evaluation Score : [10.624852922227648]\n"
     ]
    },
    {
     "name": "stderr",
     "output_type": "stream",
     "text": [
      "training: 63it [00:05, 12.51it/s, train_loss=5.2]\n",
      "testing: 100%|██████████| 63/63 [00:01<00:00, 31.80it/s, eval_loss=10.8]\n",
      "  0%|          | 90/100000 [10:28<191:23:48,  6.90s/it]"
     ]
    },
    {
     "name": "stdout",
     "output_type": "stream",
     "text": [
      "Evaluation Score : [10.620572286938865]\n"
     ]
    },
    {
     "name": "stderr",
     "output_type": "stream",
     "text": [
      "training: 63it [00:04, 12.87it/s, train_loss=5.77]\n",
      "testing: 100%|██████████| 63/63 [00:01<00:00, 31.64it/s, eval_loss=10.5]\n",
      "  0%|          | 91/100000 [10:35<191:19:31,  6.89s/it]"
     ]
    },
    {
     "name": "stdout",
     "output_type": "stream",
     "text": [
      "Evaluation Score : [10.622133466932508]\n"
     ]
    },
    {
     "name": "stderr",
     "output_type": "stream",
     "text": [
      "training: 63it [00:04, 12.96it/s, train_loss=5.7]\n",
      "testing: 100%|██████████| 63/63 [00:02<00:00, 31.22it/s, eval_loss=10.5]\n",
      "  0%|          | 92/100000 [10:42<191:12:42,  6.89s/it]"
     ]
    },
    {
     "name": "stdout",
     "output_type": "stream",
     "text": [
      "Evaluation Score : [10.61789247724745]\n"
     ]
    },
    {
     "name": "stderr",
     "output_type": "stream",
     "text": [
      "training: 63it [00:04, 12.77it/s, train_loss=5.48]\n",
      "testing: 100%|██████████| 63/63 [00:01<00:00, 32.82it/s, eval_loss=10.5]\n",
      "  0%|          | 93/100000 [10:48<190:56:19,  6.88s/it]"
     ]
    },
    {
     "name": "stdout",
     "output_type": "stream",
     "text": [
      "Evaluation Score : [10.629922231038412]\n"
     ]
    },
    {
     "name": "stderr",
     "output_type": "stream",
     "text": [
      "training: 63it [00:05, 12.48it/s, train_loss=5.42]\n",
      "testing: 100%|██████████| 63/63 [00:01<00:00, 31.83it/s, eval_loss=10.4]\n",
      "  0%|          | 94/100000 [10:55<192:11:13,  6.93s/it]"
     ]
    },
    {
     "name": "stdout",
     "output_type": "stream",
     "text": [
      "Evaluation Score : [10.623039805699909]\n"
     ]
    },
    {
     "name": "stderr",
     "output_type": "stream",
     "text": [
      "training: 63it [00:04, 12.70it/s, train_loss=5.62]\n",
      "testing: 100%|██████████| 63/63 [00:01<00:00, 31.80it/s, eval_loss=10.4]\n",
      "  0%|          | 95/100000 [11:02<192:21:38,  6.93s/it]"
     ]
    },
    {
     "name": "stdout",
     "output_type": "stream",
     "text": [
      "Evaluation Score : [10.62425683036683]\n"
     ]
    },
    {
     "name": "stderr",
     "output_type": "stream",
     "text": [
      "training: 63it [00:04, 12.80it/s, train_loss=5.77]\n",
      "testing: 100%|██████████| 63/63 [00:02<00:00, 30.97it/s, eval_loss=10.2]\n",
      "  0%|          | 96/100000 [11:09<192:36:23,  6.94s/it]"
     ]
    },
    {
     "name": "stdout",
     "output_type": "stream",
     "text": [
      "Evaluation Score : [10.629226063925122]\n"
     ]
    },
    {
     "name": "stderr",
     "output_type": "stream",
     "text": [
      "training: 63it [00:04, 12.71it/s, train_loss=5.79]\n",
      "testing: 100%|██████████| 63/63 [00:01<00:00, 31.78it/s, eval_loss=10.5]\n",
      "  0%|          | 97/100000 [11:16<192:37:38,  6.94s/it]"
     ]
    },
    {
     "name": "stdout",
     "output_type": "stream",
     "text": [
      "Evaluation Score : [10.62553962828621]\n"
     ]
    },
    {
     "name": "stderr",
     "output_type": "stream",
     "text": [
      "training: 63it [00:05, 12.35it/s, train_loss=5.49]\n",
      "testing: 100%|██████████| 63/63 [00:02<00:00, 31.18it/s, eval_loss=11]\n",
      "  0%|          | 98/100000 [11:23<194:09:32,  7.00s/it]"
     ]
    },
    {
     "name": "stdout",
     "output_type": "stream",
     "text": [
      "Evaluation Score : [10.620892312791613]\n"
     ]
    },
    {
     "name": "stderr",
     "output_type": "stream",
     "text": [
      "training: 63it [00:04, 12.94it/s, train_loss=5.54]\n",
      "testing: 100%|██████████| 63/63 [00:01<00:00, 33.55it/s, eval_loss=10.9]\n",
      "  0%|          | 99/100000 [11:30<192:06:39,  6.92s/it]"
     ]
    },
    {
     "name": "stdout",
     "output_type": "stream",
     "text": [
      "Evaluation Score : [10.620789437066941]\n"
     ]
    },
    {
     "name": "stderr",
     "output_type": "stream",
     "text": [
      "training: 63it [00:04, 12.69it/s, train_loss=5.85]\n",
      "testing: 100%|██████████| 63/63 [00:01<00:00, 34.51it/s, eval_loss=10.7]\n",
      "  0%|          | 100/100000 [11:37<191:00:56,  6.88s/it]"
     ]
    },
    {
     "name": "stdout",
     "output_type": "stream",
     "text": [
      "Evaluation Score : [10.623214252411373]\n"
     ]
    },
    {
     "name": "stderr",
     "output_type": "stream",
     "text": [
      "training: 63it [00:04, 13.56it/s, train_loss=5.44]\n",
      "testing: 100%|██████████| 63/63 [00:01<00:00, 32.09it/s, eval_loss=10.4]\n",
      "  0%|          | 101/100000 [11:44<188:45:41,  6.80s/it]"
     ]
    },
    {
     "name": "stdout",
     "output_type": "stream",
     "text": [
      "Evaluation Score : [10.620623497735886]\n"
     ]
    },
    {
     "name": "stderr",
     "output_type": "stream",
     "text": [
      "training: 63it [00:04, 12.89it/s, train_loss=5.18]\n",
      "testing: 100%|██████████| 63/63 [00:01<00:00, 32.78it/s, eval_loss=10.4]\n",
      "  0%|          | 102/100000 [11:50<188:51:26,  6.81s/it]"
     ]
    },
    {
     "name": "stdout",
     "output_type": "stream",
     "text": [
      "Evaluation Score : [10.614717634897383]\n"
     ]
    },
    {
     "name": "stderr",
     "output_type": "stream",
     "text": [
      "training: 63it [00:04, 12.87it/s, train_loss=5.96]\n",
      "testing: 100%|██████████| 63/63 [00:01<00:00, 33.57it/s, eval_loss=11]\n",
      "  0%|          | 103/100000 [11:57<188:36:23,  6.80s/it]"
     ]
    },
    {
     "name": "stdout",
     "output_type": "stream",
     "text": [
      "Evaluation Score : [10.627849518306672]\n"
     ]
    },
    {
     "name": "stderr",
     "output_type": "stream",
     "text": [
      "training: 63it [00:04, 12.92it/s, train_loss=5.39]\n",
      "testing: 100%|██████████| 63/63 [00:01<00:00, 32.70it/s, eval_loss=10.6]\n",
      "  0%|          | 104/100000 [12:04<188:40:34,  6.80s/it]"
     ]
    },
    {
     "name": "stdout",
     "output_type": "stream",
     "text": [
      "Evaluation Score : [10.627508950611901]\n"
     ]
    },
    {
     "name": "stderr",
     "output_type": "stream",
     "text": [
      "training: 63it [00:04, 13.43it/s, train_loss=5.21]\n",
      "testing: 100%|██████████| 63/63 [00:01<00:00, 34.72it/s, eval_loss=11]\n",
      "  0%|          | 105/100000 [12:10<186:15:04,  6.71s/it]"
     ]
    },
    {
     "name": "stdout",
     "output_type": "stream",
     "text": [
      "Evaluation Score : [10.62535932328966]\n"
     ]
    },
    {
     "name": "stderr",
     "output_type": "stream",
     "text": [
      "training: 63it [00:04, 13.14it/s, train_loss=5.43]\n",
      "testing: 100%|██████████| 63/63 [00:01<00:00, 33.27it/s, eval_loss=10.6]\n",
      "  0%|          | 106/100000 [12:17<186:03:55,  6.71s/it]"
     ]
    },
    {
     "name": "stdout",
     "output_type": "stream",
     "text": [
      "Evaluation Score : [10.622717554607089]\n"
     ]
    },
    {
     "name": "stderr",
     "output_type": "stream",
     "text": [
      "training: 63it [00:04, 13.13it/s, train_loss=5.45]\n",
      "testing: 100%|██████████| 63/63 [00:01<00:00, 32.25it/s, eval_loss=10.7]\n",
      "  0%|          | 107/100000 [12:24<186:29:20,  6.72s/it]"
     ]
    },
    {
     "name": "stdout",
     "output_type": "stream",
     "text": [
      "Evaluation Score : [10.630600232926627]\n"
     ]
    },
    {
     "name": "stderr",
     "output_type": "stream",
     "text": [
      "training: 63it [00:04, 12.91it/s, train_loss=5.53]\n",
      "testing: 100%|██████████| 63/63 [00:01<00:00, 32.30it/s, eval_loss=10.4]\n",
      "  0%|          | 108/100000 [12:31<187:26:25,  6.76s/it]"
     ]
    },
    {
     "name": "stdout",
     "output_type": "stream",
     "text": [
      "Evaluation Score : [10.624608539399647]\n"
     ]
    },
    {
     "name": "stderr",
     "output_type": "stream",
     "text": [
      "training: 63it [00:04, 13.10it/s, train_loss=5.81]\n",
      "testing: 100%|██████████| 63/63 [00:01<00:00, 31.76it/s, eval_loss=10.7]\n",
      "  0%|          | 109/100000 [12:38<187:47:26,  6.77s/it]"
     ]
    },
    {
     "name": "stdout",
     "output_type": "stream",
     "text": [
      "Evaluation Score : [10.623531159900484]\n"
     ]
    },
    {
     "name": "stderr",
     "output_type": "stream",
     "text": [
      "training: 63it [00:04, 13.10it/s, train_loss=5.69]\n",
      "testing: 100%|██████████| 63/63 [00:01<00:00, 33.81it/s, eval_loss=10.5]\n",
      "  0%|          | 110/100000 [12:44<187:02:00,  6.74s/it]"
     ]
    },
    {
     "name": "stdout",
     "output_type": "stream",
     "text": [
      "Evaluation Score : [10.621691991412451]\n"
     ]
    },
    {
     "name": "stderr",
     "output_type": "stream",
     "text": [
      "training: 63it [00:04, 13.15it/s, train_loss=5.49]\n",
      "testing: 100%|██████████| 63/63 [00:01<00:00, 33.51it/s, eval_loss=10.4]\n",
      "  0%|          | 111/100000 [12:51<186:29:12,  6.72s/it]"
     ]
    },
    {
     "name": "stdout",
     "output_type": "stream",
     "text": [
      "Evaluation Score : [10.624649290054563]\n"
     ]
    },
    {
     "name": "stderr",
     "output_type": "stream",
     "text": [
      "training: 63it [00:04, 13.01it/s, train_loss=5.53]\n",
      "testing: 100%|██████████| 63/63 [00:01<00:00, 34.73it/s, eval_loss=10.6]\n",
      "  0%|          | 112/100000 [12:58<185:58:29,  6.70s/it]"
     ]
    },
    {
     "name": "stdout",
     "output_type": "stream",
     "text": [
      "Evaluation Score : [10.6220303944179]\n"
     ]
    },
    {
     "name": "stderr",
     "output_type": "stream",
     "text": [
      "training: 63it [00:04, 13.16it/s, train_loss=5.84]\n",
      "testing: 100%|██████████| 63/63 [00:01<00:00, 32.80it/s, eval_loss=10.5]\n",
      "  0%|          | 113/100000 [13:04<186:02:41,  6.71s/it]"
     ]
    },
    {
     "name": "stdout",
     "output_type": "stream",
     "text": [
      "Evaluation Score : [10.622515890333387]\n"
     ]
    },
    {
     "name": "stderr",
     "output_type": "stream",
     "text": [
      "training: 63it [00:04, 13.25it/s, train_loss=6.14]\n",
      "testing: 100%|██████████| 63/63 [00:01<00:00, 31.52it/s, eval_loss=10.7]\n",
      "  0%|          | 114/100000 [13:11<186:27:53,  6.72s/it]"
     ]
    },
    {
     "name": "stdout",
     "output_type": "stream",
     "text": [
      "Evaluation Score : [10.623583884466262]\n"
     ]
    },
    {
     "name": "stderr",
     "output_type": "stream",
     "text": [
      "training: 63it [00:04, 13.22it/s, train_loss=5.62]\n",
      "testing: 100%|██████████| 63/63 [00:02<00:00, 30.67it/s, eval_loss=10.9]\n",
      "  0%|          | 115/100000 [13:18<187:19:09,  6.75s/it]"
     ]
    },
    {
     "name": "stdout",
     "output_type": "stream",
     "text": [
      "Evaluation Score : [10.630911539471338]\n"
     ]
    },
    {
     "name": "stderr",
     "output_type": "stream",
     "text": [
      "training: 63it [00:04, 13.08it/s, train_loss=5.37]\n",
      "testing: 100%|██████████| 63/63 [00:01<00:00, 31.94it/s, eval_loss=10.7]\n",
      "  0%|          | 116/100000 [13:25<187:40:13,  6.76s/it]"
     ]
    },
    {
     "name": "stdout",
     "output_type": "stream",
     "text": [
      "Evaluation Score : [10.624268562074692]\n"
     ]
    },
    {
     "name": "stderr",
     "output_type": "stream",
     "text": [
      "training: 63it [00:04, 12.83it/s, train_loss=5.78]\n",
      "testing: 100%|██████████| 63/63 [00:01<00:00, 32.06it/s, eval_loss=10.8]\n",
      "  0%|          | 117/100000 [13:32<188:36:58,  6.80s/it]"
     ]
    },
    {
     "name": "stdout",
     "output_type": "stream",
     "text": [
      "Evaluation Score : [10.626531691778274]\n"
     ]
    },
    {
     "name": "stderr",
     "output_type": "stream",
     "text": [
      "training: 63it [00:04, 13.20it/s, train_loss=5.64]\n",
      "testing: 100%|██████████| 63/63 [00:01<00:00, 32.93it/s, eval_loss=10.7]\n",
      "  0%|          | 118/100000 [13:38<187:43:04,  6.77s/it]"
     ]
    },
    {
     "name": "stdout",
     "output_type": "stream",
     "text": [
      "Evaluation Score : [10.625712697468106]\n"
     ]
    },
    {
     "name": "stderr",
     "output_type": "stream",
     "text": [
      "training: 63it [00:04, 13.32it/s, train_loss=5.69]\n",
      "testing: 100%|██████████| 63/63 [00:02<00:00, 30.97it/s, eval_loss=10.4]\n",
      "  0%|          | 119/100000 [13:45<187:44:01,  6.77s/it]"
     ]
    },
    {
     "name": "stdout",
     "output_type": "stream",
     "text": [
      "Evaluation Score : [10.625256296188113]\n"
     ]
    },
    {
     "name": "stderr",
     "output_type": "stream",
     "text": [
      "training: 63it [00:04, 13.06it/s, train_loss=5.05]\n",
      "testing: 100%|██████████| 63/63 [00:01<00:00, 32.35it/s, eval_loss=10.4]\n",
      "  0%|          | 120/100000 [13:52<187:47:23,  6.77s/it]"
     ]
    },
    {
     "name": "stdout",
     "output_type": "stream",
     "text": [
      "Evaluation Score : [10.632922354198637]\n"
     ]
    },
    {
     "name": "stderr",
     "output_type": "stream",
     "text": [
      "training: 63it [00:04, 12.70it/s, train_loss=5.92]\n",
      "testing:  25%|██▌       | 16/63 [00:00<00:01, 31.09it/s, eval_loss=10.8]\n",
      "  0%|          | 120/100000 [13:57<193:41:32,  6.98s/it]\n"
     ]
    },
    {
     "ename": "KeyboardInterrupt",
     "evalue": "",
     "output_type": "error",
     "traceback": [
      "\u001b[0;31m---------------------------------------------------------------------------\u001b[0m",
      "\u001b[0;31mKeyboardInterrupt\u001b[0m                         Traceback (most recent call last)",
      "Cell \u001b[0;32mIn[319], line 2\u001b[0m\n\u001b[1;32m      1\u001b[0m iterations \u001b[38;5;241m=\u001b[39m \u001b[38;5;241m100000\u001b[39m\n\u001b[0;32m----> 2\u001b[0m \u001b[43mtrain\u001b[49m\u001b[43m(\u001b[49m\u001b[43miterations\u001b[49m\u001b[43m,\u001b[49m\u001b[43m \u001b[49m\u001b[43mmodel\u001b[49m\u001b[43m,\u001b[49m\u001b[43m \u001b[49m\u001b[43mtrain_loader\u001b[49m\u001b[43m,\u001b[49m\u001b[43m \u001b[49m\u001b[43mtrain_loader\u001b[49m\u001b[43m)\u001b[49m\n",
      "Cell \u001b[0;32mIn[318], line 52\u001b[0m, in \u001b[0;36mtrain\u001b[0;34m(iterations, model, train_loader, test_loader)\u001b[0m\n\u001b[1;32m     47\u001b[0m test_iterator \u001b[38;5;241m=\u001b[39m tqdm(\n\u001b[1;32m     48\u001b[0m     \u001b[38;5;28menumerate\u001b[39m(test_loader), total\u001b[38;5;241m=\u001b[39m\u001b[38;5;28mlen\u001b[39m(test_loader), desc\u001b[38;5;241m=\u001b[39m\u001b[38;5;124m\"\u001b[39m\u001b[38;5;124mtesting\u001b[39m\u001b[38;5;124m\"\u001b[39m\n\u001b[1;32m     49\u001b[0m )\n\u001b[1;32m     51\u001b[0m \u001b[38;5;28;01mwith\u001b[39;00m torch\u001b[38;5;241m.\u001b[39mno_grad():\n\u001b[0;32m---> 52\u001b[0m \u001b[43m    \u001b[49m\u001b[38;5;28;43;01mfor\u001b[39;49;00m\u001b[43m \u001b[49m\u001b[43mi\u001b[49m\u001b[43m,\u001b[49m\u001b[43m \u001b[49m\u001b[43mbatch_data\u001b[49m\u001b[43m \u001b[49m\u001b[38;5;129;43;01min\u001b[39;49;00m\u001b[43m \u001b[49m\u001b[43mtest_iterator\u001b[49m\u001b[43m:\u001b[49m\n\u001b[1;32m     53\u001b[0m \u001b[43m        \u001b[49m\u001b[43mfuture_data\u001b[49m\u001b[43m,\u001b[49m\u001b[43m \u001b[49m\u001b[43mpast_data\u001b[49m\u001b[43m \u001b[49m\u001b[38;5;241;43m=\u001b[39;49m\u001b[43m \u001b[49m\u001b[43mbatch_data\u001b[49m\n\u001b[1;32m     55\u001b[0m \u001b[43m        \u001b[49m\u001b[38;5;66;43;03m## reshape\u001b[39;49;00m\n",
      "File \u001b[0;32m~/vscode/Python/pythonenv/lib/python3.12/site-packages/tqdm/std.py:1181\u001b[0m, in \u001b[0;36mtqdm.__iter__\u001b[0;34m(self)\u001b[0m\n\u001b[1;32m   1178\u001b[0m time \u001b[38;5;241m=\u001b[39m \u001b[38;5;28mself\u001b[39m\u001b[38;5;241m.\u001b[39m_time\n\u001b[1;32m   1180\u001b[0m \u001b[38;5;28;01mtry\u001b[39;00m:\n\u001b[0;32m-> 1181\u001b[0m \u001b[43m    \u001b[49m\u001b[38;5;28;43;01mfor\u001b[39;49;00m\u001b[43m \u001b[49m\u001b[43mobj\u001b[49m\u001b[43m \u001b[49m\u001b[38;5;129;43;01min\u001b[39;49;00m\u001b[43m \u001b[49m\u001b[43miterable\u001b[49m\u001b[43m:\u001b[49m\n\u001b[1;32m   1182\u001b[0m \u001b[43m        \u001b[49m\u001b[38;5;28;43;01myield\u001b[39;49;00m\u001b[43m \u001b[49m\u001b[43mobj\u001b[49m\n\u001b[1;32m   1183\u001b[0m \u001b[43m        \u001b[49m\u001b[38;5;66;43;03m# Update and possibly print the progressbar.\u001b[39;49;00m\n\u001b[1;32m   1184\u001b[0m \u001b[43m        \u001b[49m\u001b[38;5;66;43;03m# Note: does not call self.update(1) for speed optimisation.\u001b[39;49;00m\n",
      "File \u001b[0;32m~/vscode/Python/pythonenv/lib/python3.12/site-packages/torch/utils/data/dataloader.py:631\u001b[0m, in \u001b[0;36m_BaseDataLoaderIter.__next__\u001b[0;34m(self)\u001b[0m\n\u001b[1;32m    628\u001b[0m \u001b[38;5;28;01mif\u001b[39;00m \u001b[38;5;28mself\u001b[39m\u001b[38;5;241m.\u001b[39m_sampler_iter \u001b[38;5;129;01mis\u001b[39;00m \u001b[38;5;28;01mNone\u001b[39;00m:\n\u001b[1;32m    629\u001b[0m     \u001b[38;5;66;03m# TODO(https://github.com/pytorch/pytorch/issues/76750)\u001b[39;00m\n\u001b[1;32m    630\u001b[0m     \u001b[38;5;28mself\u001b[39m\u001b[38;5;241m.\u001b[39m_reset()  \u001b[38;5;66;03m# type: ignore[call-arg]\u001b[39;00m\n\u001b[0;32m--> 631\u001b[0m data \u001b[38;5;241m=\u001b[39m \u001b[38;5;28;43mself\u001b[39;49m\u001b[38;5;241;43m.\u001b[39;49m\u001b[43m_next_data\u001b[49m\u001b[43m(\u001b[49m\u001b[43m)\u001b[49m\n\u001b[1;32m    632\u001b[0m \u001b[38;5;28mself\u001b[39m\u001b[38;5;241m.\u001b[39m_num_yielded \u001b[38;5;241m+\u001b[39m\u001b[38;5;241m=\u001b[39m \u001b[38;5;241m1\u001b[39m\n\u001b[1;32m    633\u001b[0m \u001b[38;5;28;01mif\u001b[39;00m \u001b[38;5;28mself\u001b[39m\u001b[38;5;241m.\u001b[39m_dataset_kind \u001b[38;5;241m==\u001b[39m _DatasetKind\u001b[38;5;241m.\u001b[39mIterable \u001b[38;5;129;01mand\u001b[39;00m \\\n\u001b[1;32m    634\u001b[0m         \u001b[38;5;28mself\u001b[39m\u001b[38;5;241m.\u001b[39m_IterableDataset_len_called \u001b[38;5;129;01mis\u001b[39;00m \u001b[38;5;129;01mnot\u001b[39;00m \u001b[38;5;28;01mNone\u001b[39;00m \u001b[38;5;129;01mand\u001b[39;00m \\\n\u001b[1;32m    635\u001b[0m         \u001b[38;5;28mself\u001b[39m\u001b[38;5;241m.\u001b[39m_num_yielded \u001b[38;5;241m>\u001b[39m \u001b[38;5;28mself\u001b[39m\u001b[38;5;241m.\u001b[39m_IterableDataset_len_called:\n",
      "File \u001b[0;32m~/vscode/Python/pythonenv/lib/python3.12/site-packages/torch/utils/data/dataloader.py:675\u001b[0m, in \u001b[0;36m_SingleProcessDataLoaderIter._next_data\u001b[0;34m(self)\u001b[0m\n\u001b[1;32m    673\u001b[0m \u001b[38;5;28;01mdef\u001b[39;00m \u001b[38;5;21m_next_data\u001b[39m(\u001b[38;5;28mself\u001b[39m):\n\u001b[1;32m    674\u001b[0m     index \u001b[38;5;241m=\u001b[39m \u001b[38;5;28mself\u001b[39m\u001b[38;5;241m.\u001b[39m_next_index()  \u001b[38;5;66;03m# may raise StopIteration\u001b[39;00m\n\u001b[0;32m--> 675\u001b[0m     data \u001b[38;5;241m=\u001b[39m \u001b[38;5;28;43mself\u001b[39;49m\u001b[38;5;241;43m.\u001b[39;49m\u001b[43m_dataset_fetcher\u001b[49m\u001b[38;5;241;43m.\u001b[39;49m\u001b[43mfetch\u001b[49m\u001b[43m(\u001b[49m\u001b[43mindex\u001b[49m\u001b[43m)\u001b[49m  \u001b[38;5;66;03m# may raise StopIteration\u001b[39;00m\n\u001b[1;32m    676\u001b[0m     \u001b[38;5;28;01mif\u001b[39;00m \u001b[38;5;28mself\u001b[39m\u001b[38;5;241m.\u001b[39m_pin_memory:\n\u001b[1;32m    677\u001b[0m         data \u001b[38;5;241m=\u001b[39m _utils\u001b[38;5;241m.\u001b[39mpin_memory\u001b[38;5;241m.\u001b[39mpin_memory(data, \u001b[38;5;28mself\u001b[39m\u001b[38;5;241m.\u001b[39m_pin_memory_device)\n",
      "File \u001b[0;32m~/vscode/Python/pythonenv/lib/python3.12/site-packages/torch/utils/data/_utils/fetch.py:51\u001b[0m, in \u001b[0;36m_MapDatasetFetcher.fetch\u001b[0;34m(self, possibly_batched_index)\u001b[0m\n\u001b[1;32m     49\u001b[0m         data \u001b[38;5;241m=\u001b[39m \u001b[38;5;28mself\u001b[39m\u001b[38;5;241m.\u001b[39mdataset\u001b[38;5;241m.\u001b[39m__getitems__(possibly_batched_index)\n\u001b[1;32m     50\u001b[0m     \u001b[38;5;28;01melse\u001b[39;00m:\n\u001b[0;32m---> 51\u001b[0m         data \u001b[38;5;241m=\u001b[39m [\u001b[38;5;28;43mself\u001b[39;49m\u001b[38;5;241;43m.\u001b[39;49m\u001b[43mdataset\u001b[49m\u001b[43m[\u001b[49m\u001b[43midx\u001b[49m\u001b[43m]\u001b[49m \u001b[38;5;28;01mfor\u001b[39;00m idx \u001b[38;5;129;01min\u001b[39;00m possibly_batched_index]\n\u001b[1;32m     52\u001b[0m \u001b[38;5;28;01melse\u001b[39;00m:\n\u001b[1;32m     53\u001b[0m     data \u001b[38;5;241m=\u001b[39m \u001b[38;5;28mself\u001b[39m\u001b[38;5;241m.\u001b[39mdataset[possibly_batched_index]\n",
      "Cell \u001b[0;32mIn[311], line 36\u001b[0m, in \u001b[0;36mmHealth.__getitem__\u001b[0;34m(self, index)\u001b[0m\n\u001b[1;32m     15\u001b[0m \u001b[38;5;250m\u001b[39m\u001b[38;5;124;03m\"\"\"\u001b[39;00m\n\u001b[1;32m     16\u001b[0m \u001b[38;5;124;03mArgs:\u001b[39;00m\n\u001b[1;32m     17\u001b[0m \u001b[38;5;124;03m    index (int): index\u001b[39;00m\n\u001b[0;32m   (...)\u001b[0m\n\u001b[1;32m     21\u001b[0m \u001b[38;5;124;03m    returns the time series data then label value for data\u001b[39;00m\n\u001b[1;32m     22\u001b[0m \u001b[38;5;124;03m\"\"\"\u001b[39;00m\n\u001b[1;32m     24\u001b[0m \u001b[38;5;66;03m# label = self.raw_data['label'].iloc[index]\u001b[39;00m\n\u001b[1;32m     25\u001b[0m \n\u001b[1;32m     26\u001b[0m \u001b[38;5;66;03m# sequence = np.array()\u001b[39;00m\n\u001b[0;32m   (...)\u001b[0m\n\u001b[1;32m     33\u001b[0m \u001b[38;5;66;03m#             self.dataset['Chest Y-axis'].iloc[index],\u001b[39;00m\n\u001b[1;32m     34\u001b[0m \u001b[38;5;66;03m#             self.dataset['Chest Z-axis'].iloc[index],]\u001b[39;00m\n\u001b[0;32m---> 36\u001b[0m sequence \u001b[38;5;241m=\u001b[39m \u001b[43mtorch\u001b[49m\u001b[38;5;241;43m.\u001b[39;49m\u001b[43mtensor\u001b[49m\u001b[43m(\u001b[49m\u001b[38;5;28;43mself\u001b[39;49m\u001b[38;5;241;43m.\u001b[39;49m\u001b[43mdataset\u001b[49m\u001b[43m[\u001b[49m\u001b[43mindex\u001b[49m\u001b[43m:\u001b[49m\u001b[43mindex\u001b[49m\u001b[38;5;241;43m+\u001b[39;49m\u001b[38;5;241;43m16\u001b[39;49m\u001b[43m]\u001b[49m\u001b[43m)\u001b[49m\u001b[38;5;241m.\u001b[39mtype(torch\u001b[38;5;241m.\u001b[39mfloat32)\n\u001b[1;32m     37\u001b[0m target \u001b[38;5;241m=\u001b[39m torch\u001b[38;5;241m.\u001b[39mtensor(\u001b[38;5;28mself\u001b[39m\u001b[38;5;241m.\u001b[39mdataset[index\u001b[38;5;241m+\u001b[39m\u001b[38;5;241m17\u001b[39m:index\u001b[38;5;241m+\u001b[39m\u001b[38;5;241m32\u001b[39m])\u001b[38;5;241m.\u001b[39mtype(torch\u001b[38;5;241m.\u001b[39mfloat32)\n\u001b[1;32m     39\u001b[0m \u001b[38;5;66;03m# if(len(sequence) <14):\u001b[39;00m\n\u001b[1;32m     40\u001b[0m \u001b[38;5;66;03m#     print(\"sequence is small, index: \", index)\u001b[39;00m\n\u001b[1;32m     41\u001b[0m     \n\u001b[1;32m     42\u001b[0m \n\u001b[1;32m     43\u001b[0m \u001b[38;5;66;03m# print(sequence.type)\u001b[39;00m\n",
      "\u001b[0;31mKeyboardInterrupt\u001b[0m: "
     ]
    }
   ],
   "source": [
    "iterations = 100000\n",
    "train(iterations, model, train_loader, train_loader)"
   ]
  },
  {
   "cell_type": "code",
   "execution_count": null,
   "metadata": {},
   "outputs": [],
   "source": [
    "# # training\n",
    "# # train(args, model, train_loader, test_loader)\n",
    "\n",
    "# def loss_function(recon_x, x, mu, logvar):\n",
    "#     BCE = torch.nn.functional.mse_loss(recon_x, x, reduction='sum')\n",
    "#     KLD = -0.5 * torch.sum(1 + logvar - mu.pow(2) - logvar.exp())\n",
    "#     return BCE + KLD\n",
    "\n",
    "# optimizer = torch.optim.SGD(model.parameters(), lr=1e-3)\n",
    "\n",
    "# trainer(model, train_loader)"
   ]
  },
  {
   "cell_type": "code",
   "execution_count": null,
   "metadata": {},
   "outputs": [],
   "source": [
    "# # save model\n",
    "# id_ = secrets.token_hex(nbytes=4)\n",
    "# torch.save(model.state_dict(), f\"lstmvae{id_}.model\")\n",
    "\n",
    "# # load model\n",
    "# model_to_load = LSTMVAE(input_size, hidden_size, latent_size, device=args.device)\n",
    "# model_to_load.to(args.device)\n",
    "# model_to_load.load_state_dict(torch.load(f\"lstmvae{id_}.model\"))\n",
    "# model_to_load.eval()\n",
    "\n",
    "# # show results\n",
    "# ## past_data, future_data -> shape: (10,10)\n",
    "# future_data, past_data = train_set[0]\n",
    "\n",
    "# ## reshape\n",
    "# example_size = past_data.size(0)\n",
    "# image_size = past_data.size(1), past_data.size(2)\n",
    "# past_data = past_data.view(example_size, -1).float().to(args.device)\n",
    "# _, recon_data, info = model_to_load(past_data.unsqueeze(0))\n",
    "\n",
    "# nhw_orig = past_data.view(example_size, image_size[0], -1).cpu()\n",
    "# nhw_recon = (\n",
    "#     recon_data.squeeze(0)\n",
    "#     .view(example_size, image_size[0], -1)\n",
    "#     .detach()\n",
    "#     .cpu()\n",
    "#     .numpy()\n",
    "# )\n",
    "\n",
    "#     imshow(nhw_orig, title=f\"final_input{id_}\")\n",
    "#     imshow(nhw_recon, title=f\"final_output{id_}\")\n",
    "#     plt.show()"
   ]
  },
  {
   "cell_type": "code",
   "execution_count": null,
   "metadata": {},
   "outputs": [],
   "source": []
  },
  {
   "cell_type": "code",
   "execution_count": null,
   "metadata": {},
   "outputs": [],
   "source": []
  }
 ],
 "metadata": {
  "kernelspec": {
   "display_name": "base",
   "language": "python",
   "name": "python3"
  },
  "language_info": {
   "codemirror_mode": {
    "name": "ipython",
    "version": 3
   },
   "file_extension": ".py",
   "mimetype": "text/x-python",
   "name": "python",
   "nbconvert_exporter": "python",
   "pygments_lexer": "ipython3",
   "version": "3.12.4"
  }
 },
 "nbformat": 4,
 "nbformat_minor": 2
}
